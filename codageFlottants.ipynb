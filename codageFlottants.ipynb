{
 "cells": [
  {
   "cell_type": "markdown",
   "metadata": {},
   "source": [
    "## Flottants"
   ]
  },
  {
   "cell_type": "markdown",
   "metadata": {},
   "source": [
    "Un nombre flottant est formé de trois éléments : la mantisse, l'exposant et le signe. Le bit de poids fort est le bit de signe : si ce bit est à 1, le nombre est négatif, et s’il est à 0, le nombre est positif. Les e bits suivants représentent l'exposant décalé, et les m bits suivants (m bits de poids faible) représentent la mantisse.\n",
    "\n",
    "### Format général flottants IEEE 754\n",
    "\n",
    "| Signe| Exposant décalé| Mantisse|\n",
    "|:------------:|:---------------------:|:-------------:|\n",
    "| (1 bit)| (e bits)| (m bits)|\n",
    " \t\n",
    "    \n",
    "### Décalage de l'exposant\n",
    "\n",
    "L'exposant peut être positif ou négatif. Afin de garantir la compatibilité des comparaisons entre les entiers naturels et entre les flottants on n'utilise pas le C2. Ici l'exposant est **décalé**, afin de le stocker sous forme d'un nombre non signé. Ce décalage est de $2^{e−1} − 1$ ($e$ représente le nombre de bits de l'exposant) ; il s'agit donc d'une valeur constante une fois que le nombre de bits $e$ est fixé.\n",
    "\n",
    "L'interprétation d'un nombre (autre qu'infini) est donc :\n",
    "\n",
    "valeur = signe × mantisse × 2(exposant − décalage)\n",
    "\n",
    "avec\n",
    "\n",
    "signe = ±1\n",
    "\n",
    "decalage = $2^{e−1} − 1$ \n",
    "\n",
    "### Exceptions\n",
    "\n",
    "Dans le cas général (l'exposant est différent de 0 et de $2^e − 1$), le bit de poids fort de la mantisse est toujours égal à 1. De ce fait il est inutile de le représenter explicitement.  Le nombre est dit « normalisé ». Si l'exposant décalé est nul, le bit de poids fort de la mantisse est nul, et le nombre est 'dé-normalisé'. \n",
    "\n",
    "Il y a trois cas particuliers :\n",
    "\n",
    "- si l'exposant décalé et la mantisse sont tous deux nuls, le nombre est ±0 (selon le bit de signe)\n",
    "- si l'exposant décalé est égal à $ 2^{e} - 1$, et si la mantisse est nulle, le nombre est ±$\\inf$ (selon le bit de signe)\n",
    "- si l'exposant décalé est égal à $ 2^{e} - 1$, mais que la mantisse n'est pas nulle, le nombre est NaN (not a number : pas un nombre).\n",
    "\n",
    "Type| \tExposant décalé| \tMantisse\n",
    ":------------:|:---------------------:|:-------------:\n",
    "Zéros| \t0| \t0\n",
    "Nombres dénormalisés |\t0 |\tdifférente de 0\n",
    "Nombres normalisés \t| 1 à $2^e-2 $|\tquelconque\n",
    "Infinis |\t$ 2^e-1 $|\t0\n",
    "NaNs |$ 2^e-1 $|\tdifférente de 0 \n",
    "\n",
    "\n",
    "La norme IEEE754-2008 prévoit 3 types de configurations en fonction du nombre de bits disponibles pour représenter les flottants:\n",
    "\n",
    " `     `|Simple précision|Double précision|Quadruple précision\n",
    ":---------------------:|:------------:|:---------------------:|:-------------:\n",
    "Bit de signe|1|1|1\n",
    "Bits de l’exposant|8|11|15\n",
    "Bits de la mantisse|23|52|112\n",
    "Nombre total de bits|32|64|128\n",
    "Codage de l’exposant|Excédant 127|Excédant 1023|Excédant 16383\n",
    "Variation de l’exposant|-126 à +127|-1022 à +1023|-16382 à 16383\n",
    "Plus petit nombre normalisé|$2^{-126}$|$2^{-1022}$|$2^{-16382}$\n",
    "Plus grand nombre normalisé|$2^{+128}$|$2^{+1024}$|$2^{+16384}$\n",
    "Échelle des nombres décimaux|environ $10^{–38}$ à $10^{+38}$|$10^{-308}$ à $10^{+308}$|$10^{-4932}$ à $10^{+4932}$\n",
    "Plus petit nombre non normalisé|environ $10^{-45}$|environ $10^{-324}$|\n",
    "\n",
    "\n",
    "\n",
    "Exemple:\n",
    "\n",
    "$1= (signe,exposant,mantisse)= (+,0,1.0)$ \n",
    "\n",
    "ce qui donne: $1=(0,0+2^{e−1} − 1,0)$\n",
    "\n",
    "et en binaire si on représente tous les bits sur 64 bits: \n",
    "\n",
    "$1=(0,01111111111,0000000000000000000000000000000000000000000000000000)$\n",
    "\n",
    "Ce qui est concaténé sur 64 bits:\n",
    "\n",
    "$0011111111110000000000000000000000000000000000000000000000000000$\n",
    "\n",
    "Mais c'est un brin illisible donc on représente cela sous forme hexadécimale:\n",
    "\n",
    "$3FF0000000000000$\n",
    "\n",
    "Autre exemple: \n",
    "\n",
    "\n",
    "|Base 10|Base 16|Base 2|\n",
    "|-----|-----|-----|\n",
    "|3.14|40091eb851eb851f|0100000000001001000111101011100001010001111010111000010100011111|\n",
    "\n",
    "\n",
    "\n"
   ]
  },
  {
   "cell_type": "markdown",
   "metadata": {},
   "source": [
    "Pour accéder à la représentation en mémoire d'un flottant, on le met sous la forme d'une séquence de bytes. La fonction \"pack\" du module struct (https://docs.python.org/3/library/struct.html) permet d'effectuer cette transformation, on note en particulier l'usage de \"!\" pour fixer une représentation gros-boutiste. D'autre part, les flottants en python sont représentés en double précision (binary64). La fonction unpack fait la transformation inverse.\n",
    "\n",
    "La chaîne de caractères produite est préfixée par \"b\" et est la suite des codes ascii (ou de leur interprétation si elle est affichable) représentant les codes hexadécimaux des octets.\n",
    "\n",
    "\n",
    "<img src=\"fig/1280px-USASCII_code_chart.png\" alt=\"1280px-USASCII_code_chart.png\"\n",
    "\ttitle=\"1280px-USASCII_code_chart.png\" width=\"400\"  />\n",
    "\n",
    "Testez le code suivant avec les valeurs 1.0 , 3.14 et 13019830.68\n",
    "\n",
    "Expliquez les valeurs que vous affichez.\n",
    "\n",
    "\n",
    "Aide:\n",
    "```python\n",
    "from struct import pack,unpack\n",
    "\n",
    "t=pack('!d',13019830.68)\n",
    "print(t)  #d signifie que l'on utilise la représentation en double précision, f pour la simple précision\n",
    "\n",
    "print(\"{:x}\".format(t[0]))  # il est aussi possible de lire la première case du tableau retourné par unpack et contenant le début de la séquence de bytes \n",
    "```"
   ]
  },
  {
   "cell_type": "code",
   "execution_count": null,
   "metadata": {},
   "outputs": [],
   "source": []
  },
  {
   "cell_type": "markdown",
   "metadata": {},
   "source": [
    "\"La suite des codes ascii (ou de leur interprétation si elle est affichable) représentant les codes hexadécimaux des octets\"... Ce n'est guère lisible! Faites en sorte d'afficher directement en hexadécimal la séquence de bytes du flottant. Coder cette fonction, puis utilisez-là pour visualiser le format flottant pour  1.0 , 3.14 et 13019830.68\n",
    "\n",
    "```Python\n",
    "from struct import pack,unpack\n",
    "\n",
    "\n",
    "def floattohexa(f):\n",
    "    \"\"\"Retourne une chaine représentant le flottant en hexadécimal\"\"\"\n",
    "    t=pack('!d',f)\n",
    "    s=\"\"\n",
    "    pass  # changer le code ici\n",
    "    return s\n",
    "\n",
    "print(floattohexa(3.14))\n",
    "print(floattohexa(1.0))\n",
    "print(floattohexa(13019830.68))\n",
    "```"
   ]
  },
  {
   "cell_type": "code",
   "execution_count": null,
   "metadata": {},
   "outputs": [],
   "source": []
  },
  {
   "cell_type": "markdown",
   "metadata": {},
   "source": [
    "On souhaite maintenant pouvoir obtenir le triplet (signe, exposant, mantisse) décrivant un flottant donné. Pour ce faire, on crée une nouvelle fonction sur le modèle de ``` floattohexa```:\n",
    "\n",
    "```Python\n",
    "def floattobin(f):\n",
    "    \"\"\"Retourne une chaine représentant le flottant en binaire\"\"\"\n",
    "    t=pack('!d',f)\n",
    "    s=\"\"\n",
    "    pass  #changer le code ici\n",
    "    return s\n",
    "```\n",
    "\n",
    "Puis on récupére les bits correspondants au signe, à l'exposant et à la mantisse et les convertir en entier.\n",
    "\n",
    "```Python\n",
    "\n",
    "def triplet(f):\n",
    "    \"\"\"\n",
    "        Prend en argument un flottant en double précision et retourne le triplet:\n",
    "        -s, le bit de signe\n",
    "        -e, l'exposant sous forme d'entier\n",
    "        -m, la mantisse en hexadécimal.\n",
    "    \n",
    "    \"\"\"\n",
    "    bytes=pack('!d',f)\n",
    "\n",
    "    s=floattobin(f)\n",
    "    return (......)\n",
    "\n",
    "\n",
    "print(triplet(13019830.68))\n",
    "print(triplet(1.0))\n",
    "print(triplet(3.14))\n",
    "```\n",
    "\n",
    "On obtient:\n",
    "\n",
    "```\n",
    "(0, 23, '8d556d5c28f5c')\n",
    "(0, 0, '0')\n",
    "(0, 1, '91eb851eb851f')\n",
    "```   "
   ]
  },
  {
   "cell_type": "code",
   "execution_count": null,
   "metadata": {
    "scrolled": true
   },
   "outputs": [],
   "source": []
  },
  {
   "cell_type": "markdown",
   "metadata": {},
   "source": [
    "Écrire la fonction inverse dans le cas des flottants normalisés. Elle prend en entrée un triplet (s,e,m) et retourne le flottant correspondant. Il est possible de le faire en une seule expression.  Essayez la avec les triplets suivants. Que constatez-vous?\n",
    "\n",
    "- (0, 23, '8d556d5c28f5c')\n",
    "- (0, 0, '0')\n",
    "- (0, 1, '91eb851eb851f')\n",
    "\n",
    "```Python\n",
    "from decimal import Decimal\n",
    "\n",
    "def flottant(s,e,m):\n",
    "    \"\"\"Retourne le flottant en double précision décrit par :\n",
    "        -son bit de signe s\n",
    "        -son exposant e\n",
    "        -sa mantisse m\n",
    "    \"\"\"\n",
    "    return ......\n",
    "\n",
    "\n",
    "print(Decimal(flottant(0, 23, '8d556d5c28f5c'))) \n",
    "print(Decimal(flottant(0, 0, '0'))) \n",
    "print(Decimal(flottant(0, 1, '91eb851eb851f'))) \n",
    "\n",
    "print(Decimal(flottant(*(triplet(1.0)))))  \n",
    "print(Decimal(flottant(*(triplet(1.0)))))  \n",
    "print(Decimal(flottant(*(triplet(1.0)))))  \n",
    "```\n",
    "\n"
   ]
  },
  {
   "cell_type": "code",
   "execution_count": null,
   "metadata": {},
   "outputs": [],
   "source": []
  },
  {
   "cell_type": "markdown",
   "metadata": {},
   "source": [
    "Les valeurs des flottants sont (presque) toujours des approximations. Testez avec 0.1, 0.2, 0.3 \n",
    "\n",
    "```Python\n",
    "print(Decimal(0.1))\n",
    "```"
   ]
  },
  {
   "cell_type": "code",
   "execution_count": null,
   "metadata": {},
   "outputs": [],
   "source": []
  },
  {
   "cell_type": "markdown",
   "metadata": {},
   "source": [
    "Mais c'est facile d'oublier cette aproximation:\n",
    "```Python\n",
    "print(0.1)\n",
    "print(0.2)\n",
    "```"
   ]
  },
  {
   "cell_type": "code",
   "execution_count": null,
   "metadata": {},
   "outputs": [],
   "source": []
  },
  {
   "cell_type": "markdown",
   "metadata": {},
   "source": [
    "Toutefois elle se rappelle facilement à nous... Essayez à présent d'additionner 0.1 et 0.2 et d'afficher le résultat."
   ]
  },
  {
   "cell_type": "code",
   "execution_count": null,
   "metadata": {},
   "outputs": [],
   "source": []
  },
  {
   "cell_type": "markdown",
   "metadata": {},
   "source": [
    "La documentation de la primitive `round()` indique qu’elle arrondit à la valeur la plus proche en s’**éloignant de zéro** s'il y a équidistance entre deux valeurs. Comme expliquez-vous le comportement suivant?"
   ]
  },
  {
   "cell_type": "code",
   "execution_count": 8,
   "metadata": {},
   "outputs": [
    {
     "name": "stdout",
     "output_type": "stream",
     "text": [
      "2.67\n"
     ]
    }
   ],
   "source": [
    "print(round(2.675, 2))"
   ]
  },
  {
   "cell_type": "markdown",
   "metadata": {},
   "source": [
    "Pour répondre il faut probablement afficher les valeurs repésentant 2.67,  2.675, 2.68"
   ]
  },
  {
   "cell_type": "code",
   "execution_count": null,
   "metadata": {},
   "outputs": [],
   "source": [
    "\n"
   ]
  },
  {
   "cell_type": "markdown",
   "metadata": {},
   "source": [
    "Une autre conséquence du fait que 0.1 n’est pas exactement stocké 1/10 est que la somme de dix valeurs de 0.1 ne donne pas 1.0 non plus. Additionnez $0.1$ dans une variable, 10 fois, et affichez le résultat. Le résultat n'est pas 1.0! "
   ]
  },
  {
   "cell_type": "code",
   "execution_count": null,
   "metadata": {},
   "outputs": [],
   "source": []
  },
  {
   "cell_type": "markdown",
   "metadata": {},
   "source": [
    "Testez avec 10000000 tours et calculez l'écart final avec la valeur que l'on aurait dû trouver si la réprésentation était parfaite."
   ]
  },
  {
   "cell_type": "code",
   "execution_count": null,
   "metadata": {},
   "outputs": [],
   "source": []
  },
  {
   "cell_type": "markdown",
   "metadata": {},
   "source": [
    "Mais dans d'autres langages, les choses peuvent être pires. Par exemple en Java on peut utiliser les flottants sur 32 bits. Il est possible d'utiliser ce type en Python avec la librairie numpy."
   ]
  },
  {
   "cell_type": "code",
   "execution_count": 12,
   "metadata": {},
   "outputs": [
    {
     "name": "stdout",
     "output_type": "stream",
     "text": [
      "0.1\n"
     ]
    }
   ],
   "source": [
    "import numpy\n",
    "\n",
    "sum = numpy.float32(0.0)\n",
    "x = numpy.float32(0.1)\n",
    "print(x)"
   ]
  },
  {
   "cell_type": "markdown",
   "metadata": {},
   "source": [
    "Dans ce cas le flottant est codé non plus sur 64 bits mais seulement sur 32. Observez les conséquences sur l'exemple précédent."
   ]
  },
  {
   "cell_type": "code",
   "execution_count": null,
   "metadata": {},
   "outputs": [],
   "source": []
  },
  {
   "cell_type": "markdown",
   "metadata": {},
   "source": [
    "## Cas d'école: \n",
    "\n",
    "Le 25 février 1991, un missile Patriote échoue à intercepter un missile Scud à Dharan.  Dans la batterie de missile, afin de calculer la trajectoire d'interception, un compteur compte les 1/10 de seconde. Puis ce nombre est multiplié par 0.1 qui est stocké dans un registre de 24 bits mais pas en virgule flottante. Ce nombre est stocké en virgule fixe comme ceci:\n",
    "\n",
    " `0.00011001100110011001100`\n",
    "\n",
    "Pour transposer ce choix en virgule flottante, il faudrait n'utiliser qu'une faible portion de la capacité de représentation. Cela revient pour la représentation de 0.1 à remplacer: \n",
    "\n",
    "`(0, -4, '999999999999a')`\n",
    "\n",
    "par:\n",
    "\n",
    "`(0, -4, '9999800000000')`\n",
    "\n",
    "Expliquez.\n",
    "\n",
    "A l'aide de votre travail en Python affichez l'écart que cela représente. \n",
    "\n",
    "Tester ce que cela donne au bout de 100h (temps que la batterie a été mise en service alors).\n",
    "\n",
    "Sachant qu'un missile Scud se déplace à environ 1 676 mètres par seconde, quel écart de distance cela donne-t-il? \n"
   ]
  },
  {
   "cell_type": "code",
   "execution_count": null,
   "metadata": {},
   "outputs": [],
   "source": [
    "\n"
   ]
  }
 ],
 "metadata": {
  "kernelspec": {
   "display_name": "Python 3",
   "language": "python",
   "name": "python3"
  },
  "language_info": {
   "codemirror_mode": {
    "name": "ipython",
    "version": 3
   },
   "file_extension": ".py",
   "mimetype": "text/x-python",
   "name": "python",
   "nbconvert_exporter": "python",
   "pygments_lexer": "ipython3",
   "version": "3.7.0"
  }
 },
 "nbformat": 4,
 "nbformat_minor": 2
}
