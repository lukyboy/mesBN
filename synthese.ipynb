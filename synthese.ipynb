{
 "cells": [
  {
   "cell_type": "markdown",
   "metadata": {},
   "source": [
    "[I BYTES](#BYTES)\n",
    "\n",
    "- [I.1 Les bytes en python](#Bytes_en_python)\n",
    "\n",
    "- [I.2 Module struct : conversion de nombres python en bytes langage C](#Module_struct)\n",
    "\n",
    "- [I.3 Représenter les bytes en base b](#bytes_en_base_b)\n",
    "\n",
    "- [I.4 Module ctypes : pour aller plus loin que struct](#Module_ctypes)\n",
    "\n",
    "[II ENCODAGES : GENERALITES](#ENCODAGES_GENERALITES)\n",
    "\n",
    "- [II.1 Définitions](#encodages_definitions)\n",
    "\n",
    "- [II.2 Exemples de caractères étrangers et liste des encodages python](#caracteres_etrangers)\n",
    "\n",
    "- [II.3 ascii, ansi, iso 8859-1, latin_1, utf-8 ... par Wikipédia](#encodages_usuels)\n",
    "\n",
    "[III ENCODAGES EN PYTHON](#ENCODAGES_PYTHON)\n",
    "\n",
    "- [III.1 jouer avec unicode : `ord()   chr()   \\N   \\u   \\U`](#unicode)\n",
    "\n",
    "- [III.2 jouer avec utf-8 : `encode()` et `decode()`](#utf-8)\n",
    "\n",
    "- [III.3 jouer avec `unicodedata`](#unicodedata)\n",
    "\n",
    "- [III.4 mises en garde lors de la manipulation de caractères étrangers ...](#mise_en_garde_caracteres_etrangers)\n",
    "\n",
    " \n",
    "\n",
    " \n",
    "\n",
    "entiers définis en octal, hexadécimal, binaire ... : dans I.1\n",
    "\n",
    "IEE754 : dans I.2\n"
   ]
  },
  {
   "cell_type": "markdown",
   "metadata": {},
   "source": [
    "<a id=\"BYTES\"></a>\n",
    "# I BYTES\n",
    "\n",
    "<a id='Bytes_en_python'></a>\n",
    "## I.1 Les bytes en python\n",
    "\n",
    "Essentiellement, les bytes sont des séquences immutables d'octets (pour des séquences mutables : [bytearrays](https://docs.python.org/3.6/library/stdtypes.html#bytearray) ) où les octets (c'est à dire les éléments de la séquence) sont de type `int`.\n",
    "\n",
    "**Remarque** : lorsqu'on demande à faire un print sur un objet `bytes`, si un des octets correspond au code ascii d'un caractère imprimable (de 32 à 126, plus 9, 10 et 13), alors il sera affiché comme le caractère ascii correspondant."
   ]
  },
  {
   "cell_type": "markdown",
   "metadata": {},
   "source": [
    "### I.1.a) Définir un <code>bytes</code> à partir d'une Literal"
   ]
  },
  {
   "cell_type": "markdown",
   "metadata": {},
   "source": [
    "On utilise une [literals](https://docs.python.org/3/reference/lexical_analysis.html#literals) avec le préfixe `b` (il y a les String literals et les Bytes literals, le préfixe `b` correspond bien entendu à une Bytes literal).\n",
    "\n",
    "La façon la plus naturelle pour le faire est d'utiliser des octets codés en héxadécimal. Dans ce cas l'expression littérale utilisera fortement le préfixe `\\x` qui indique que les deux caractères suivants correspondent au codage d'un octet en hexadécimal."
   ]
  },
  {
   "cell_type": "code",
   "execution_count": null,
   "metadata": {},
   "outputs": [],
   "source": [
    "mes_bytes = b'\\xff\\xa7'\n",
    "print(mes_bytes)\n",
    "print(mes_bytes[0])\n",
    "print(type(mes_bytes))\n",
    "print(type(mes_bytes[0]))"
   ]
  },
  {
   "cell_type": "markdown",
   "metadata": {},
   "source": [
    "**Il faut néanmoins impérativement avoir en tête que les octets correspondant à des codes ascii de caractères imprimables sont automatiquement considérés comme des caractères dans les literals**, tant lors de la lecture que lors de l'affichage écran. Dès lors voici ce qu'on peut faire (le code ascii `\\x61 = 97` correspond à `'a'`, le code ascii `\\x62 = 98` correspond à `'b'` ...):"
   ]
  },
  {
   "cell_type": "code",
   "execution_count": null,
   "metadata": {},
   "outputs": [],
   "source": [
    "mes_bytes = b'\\xffab\\x61'\n",
    "print(mes_bytes)\n",
    "for b in mes_bytes:\n",
    "    print(b)"
   ]
  },
  {
   "cell_type": "markdown",
   "metadata": {},
   "source": [
    "On remarque sur cet exemple que, lorsqu'on affiche un élément unique de la séquence `bytes`, la conversion en caractère n'est pas effectuée : c'est l'entier en base 10 correspondant à l'octet qui est affiché.\n",
    "\n",
    "**Attention :** On prendra garde que, lors de la définition d'un  `bytes` avec des literals, les espaces sont considérés comme des octets :"
   ]
  },
  {
   "cell_type": "code",
   "execution_count": 1,
   "metadata": {},
   "outputs": [
    {
     "name": "stdout",
     "output_type": "stream",
     "text": [
      "b'\\xff a'\n"
     ]
    }
   ],
   "source": [
    "mes_bytes = b'\\xff \\x61'\n",
    "print(mes_bytes)"
   ]
  },
  {
   "cell_type": "markdown",
   "metadata": {},
   "source": [
    "**Attention :** `0x` permet de définir des entiers en hexadécimal alors que `\\x` permet de définir un caractère défini en héxadécimal."
   ]
  },
  {
   "cell_type": "code",
   "execution_count": null,
   "metadata": {},
   "outputs": [],
   "source": [
    "x = 0x64\n",
    "y = '\\x64'\n",
    "z = 0o144\n",
    "w = 0b1100100\n",
    "print(x)\n",
    "print(y)\n",
    "print(z)\n",
    "print(w)"
   ]
  },
  {
   "cell_type": "markdown",
   "metadata": {},
   "source": [
    "**Remarque :** On note au passage que `print()` sur un entier l'affiche par défaut en décimal, quand bien il a été défini en héxadécimal, en octal ou en binaire. Pour l'afficher dans une autre base, il faudrait utiliser `format()`."
   ]
  },
  {
   "cell_type": "markdown",
   "metadata": {},
   "source": [
    "### I.1.b) Définir un `bytes` à partir d'une chaîne de caractères représentant une notation hexadécimale\n",
    "\n",
    "Cette fois-ci on évite le cas où python affiche les octets correspondant à des codes ascii de caractères imprimables (de 32 à 126, plus 9, 10 et 13) sous forme de caractères."
   ]
  },
  {
   "cell_type": "code",
   "execution_count": null,
   "metadata": {},
   "outputs": [],
   "source": [
    "ma_chaine_hexa = '63f061 F1ff  '\n",
    "mes_bytes = bytes.fromhex(ma_chaine_hexa)\n",
    "print(mes_bytes)\n",
    "for b in mes_bytes:\n",
    "    print(b)"
   ]
  },
  {
   "cell_type": "code",
   "execution_count": null,
   "metadata": {},
   "outputs": [],
   "source": [
    "mes_bytes = b'abcd'\n",
    "ma_chaine_hexa = mes_bytes.hex()\n",
    "print(ma_chaine_hexa)\n",
    "for b in mes_bytes:\n",
    "    print(b)"
   ]
  },
  {
   "cell_type": "markdown",
   "metadata": {},
   "source": [
    "### I.1.c) Définir un `bytes` en utilisant une conversion de type\n",
    "\n",
    "Cela peut se faire à partir :\n",
    "\n",
    "- d'une chaîne de caractères. Dans ce cas il faut préciser l'encodage désiré (la chaîne sera convertie en utilisant la méthode `str.encode()`).\n",
    "\n",
    "- d'un itérable d'entiers. Dans ce cas les entiers fournis doivent être compris entre 0 et 255.\n",
    "\n",
    "- d'un objet conforme à l'interface `buffer` (exemple non traité ici).\n",
    "\n",
    "On peut aussi initialiser un `bytes` d'octets nuls en passant en argument le nombre d'octets nuls que l'on souhaites initialiser."
   ]
  },
  {
   "cell_type": "code",
   "execution_count": null,
   "metadata": {},
   "outputs": [],
   "source": [
    "mes_bytes = bytes('abcdef ç é ù', 'utf-8')\n",
    "print(mes_bytes)"
   ]
  },
  {
   "cell_type": "code",
   "execution_count": null,
   "metadata": {},
   "outputs": [],
   "source": [
    "mes_bytes = bytes([0, 255, 64, 129])\n",
    "print(mes_bytes)"
   ]
  },
  {
   "cell_type": "code",
   "execution_count": null,
   "metadata": {},
   "outputs": [],
   "source": [
    "mes_bytes = bytes(10)\n",
    "print(mes_bytes)"
   ]
  },
  {
   "cell_type": "markdown",
   "metadata": {},
   "source": [
    "<div class=\"alert alert-info\">\n",
    "### En résumé \n",
    "- Une `bytes literal` peut être utilisée pour définir un objet `bytes`. Dans cette `bytes literal`, on utilise soit des caractères ascii imprimables soit des entiers en notation hexadécimale grâce au préfixe `\\x`. \n",
    "\n",
    "- Lors de l'affichage grâce à print, les octets correspondant à des codes ascii de caractères imprimables (de 32 à 126, plus 9, 10 et 13) seront automatiquement affichés sous forme de caractères.\n",
    "\n",
    "- En revanche lors de l'affichage d'un seul élément d'un `bytes`, l'octet est affiché sous la forme d'un entier entre 0 et 255.\n",
    "\n",
    "- En utilisant `hex()` et `fromhex` on peut aussi faire des conversion en bytes à partir de chaînes de caractères désignant les octets écrits en hexadécimal mais sans aucun préfixe.\n",
    "\n",
    "- On peut aussi utiliser des conversions de type à partir de chaînes de caractères (ce qui utilise `encode()` en arrière-plan) ou à partir d'itérables d'entiers compris entre 0 et 255."
   ]
  },
  {
   "cell_type": "markdown",
   "metadata": {},
   "source": [
    "<a id='Module_struct'></a>\n",
    "# I.2 struct : conversion nombres python en bytes langage C\n",
    "\n",
    "- This module performs conversions between Python values and C structs represented as Python bytes objects. This can be used in handling binary data stored in files or from network connections, among other sources. It uses Format Strings as compact descriptions of the layout of the C structs and the intended conversion to/from Python values.\n",
    "\n",
    "- **Attention :** il semble que ces conversions soient *abstraites* au sens où les entiers python, par exemple, prennent plus d'octets en mémoire que les conversions effectuées via ce module. Voir `ctypes` ci-dessous.\n",
    "\n",
    "Le premier caractère de la chaîne de formatage correspond à :\n",
    "\n",
    "![page module struct python](ressources/struct_1.jpg)\n",
    "\n",
    "Le caractère suivant correspond au type à packer (on note que le type `char` en langage C correspond à un type de nombre).\n",
    "\n",
    "![page module struct python](ressources/struct_2.jpg)\n",
    "\n"
   ]
  },
  {
   "cell_type": "code",
   "execution_count": 2,
   "metadata": {},
   "outputs": [
    {
     "name": "stdout",
     "output_type": "stream",
     "text": [
      "b'\\x7f'\n"
     ]
    }
   ],
   "source": [
    "from struct import pack\n",
    "mes_bytes = pack('!b', 127)\n",
    "print(mes_bytes)"
   ]
  },
  {
   "cell_type": "code",
   "execution_count": 3,
   "metadata": {},
   "outputs": [
    {
     "name": "stdout",
     "output_type": "stream",
     "text": [
      "b'I\\x96D\\xd5'\n"
     ]
    }
   ],
   "source": [
    "mes_bytes = pack('!I', 1234584789)\n",
    "print(mes_bytes)"
   ]
  },
  {
   "cell_type": "markdown",
   "metadata": {},
   "source": [
    "### Le cas des flottants : accéder à la norme IEE754\n",
    "\n",
    "Une fois que l'on maîtrise ce qui a été fait ci-dessus, ce n'est pas bien compliqué. Néanmoins il faut prendre garde au big-endian vs little-endian (il semble qu'il faille du big-endian : changer le signe de `x` pour s'en convaincre)."
   ]
  },
  {
   "cell_type": "code",
   "execution_count": 24,
   "metadata": {},
   "outputs": [
    {
     "name": "stdout",
     "output_type": "stream",
     "text": [
      " 01000010 10000001 11000000 00000000\n",
      " 42 81 c0 00\n"
     ]
    }
   ],
   "source": [
    "x = 64.875\n",
    "mes_bytes = pack('>f', x)\n",
    "s_b = ''\n",
    "s_x = ''\n",
    "for b in mes_bytes:\n",
    "    s_b = s_b + ' ' + '{:08b}'.format(b)\n",
    "    s_x = s_x + ' ' + '{:02x}'.format(b)\n",
    "\n",
    "print(s_b)\n",
    "print(s_x)"
   ]
  },
  {
   "cell_type": "markdown",
   "metadata": {},
   "source": [
    "<div class=\"alert alert-info\">\n",
    "**Attention :** il semble que la méthode pack ne fonctionne pas pour des entiers arbitrairement longs (que python sait pourtant gérer). Pour fouiller cette notion, aller voir la section relative au module `ctypes`."
   ]
  },
  {
   "cell_type": "markdown",
   "metadata": {},
   "source": [
    "<a id='bytes_en_base_b'></a>\n",
    "# I.3 Représenter les bytes en base b\n",
    "\n"
   ]
  },
  {
   "cell_type": "code",
   "execution_count": null,
   "metadata": {},
   "outputs": [],
   "source": [
    "mes_bytes = b'\\xa3\\xb5\\x91'\n",
    "for b in mes_bytes:\n",
    "    print('{:08b}'.format(b))\n",
    "    print('{:02x}'.format(b))\n",
    "    print('{:03d}'.format(b))\n",
    "    print('---------')"
   ]
  },
  {
   "cell_type": "code",
   "execution_count": null,
   "metadata": {},
   "outputs": [],
   "source": [
    "s = '10100011'\n",
    "t = 'b5'\n",
    "u = '145'\n",
    "mes_bytes = bytes([int(s, 2), int(t, 16), int(u, 10)])\n",
    "print(mes_bytes)"
   ]
  },
  {
   "cell_type": "markdown",
   "metadata": {},
   "source": [
    "<a id = \"Module_ctypes\"></a>\n",
    "# I.4 ctypes : pour aller plus loin que struct\n",
    "\n",
    "La librairie `ctypes` permet d'accéder aux structures de données écrites en C qui sont utilisées par l'interpréteur python c'est-à-dire le logiciel qui exécute le code python. On dit qu'il l'interprète.  Par conséquent il est possible grâce à cette librairie d'explorer comme sont repésentés les entiers en Python.\n",
    "\n",
    "Il est ainsi possible d'afficher par exemple une partie des données contenues dans la structure de données `PyLongObject`, laquelle permet de représenter les entiers en Python. \n",
    "\n",
    "Notamment, pour les grands entiers, on peut accéder aux octets alors qu'avec `struct` nous étions limités.\n",
    "\n",
    "Il apparait que les entiers sont stockés sous forme de paquets de 30 bits ...\n",
    "\n",
    "**Remarque :**\n",
    "\n",
    "- `id(object)`\n",
    "    - Return the “identity” of an object. This is an integer which is guaranteed to be unique and constant for this object during its lifetime. Two objects with non-overlapping lifetimes may have the same id() value.\n",
    "\n",
    "    - CPython implementation detail: This is the address of the object in memory.\n",
    "    \n",
    "\n",
    "**Attention :**\n",
    "\n",
    "Dans le code ci-dessous, le tableau px doit être parcouru de 1 à size compris (et non pas de 0 à size - 1).\n",
    "\n",
    "\n"
   ]
  },
  {
   "cell_type": "code",
   "execution_count": null,
   "metadata": {},
   "outputs": [],
   "source": [
    "import ctypes\n",
    "\n",
    "class PyLongObject(ctypes.Structure):\n",
    "        _fields_ = [(\"ob_refcnt\", ctypes.c_long),\n",
    "                (\"ob_type\", ctypes.c_void_p),\n",
    "                (\"ob_size\", ctypes.c_ulong),\n",
    "                (\"ob_digit\", ctypes.c_int *1)]\n",
    "\n",
    "bignum = 6*2**180+5*2**150+4*2**120+3*2**90+2*2**60+2**30+41\n",
    "print(bignum)\n",
    "the_int=PyLongObject.from_address(id(bignum))\n",
    "size=the_int.ob_size\n",
    "\n",
    "\n",
    "x=the_int.ob_digit  # récupère ob_digit qui est l'adresse d'un tableau d'entiers C  (c_int *)\n",
    "px= ctypes.cast(ctypes.pointer(x),ctypes.POINTER(ctypes.c_int))# transforme  le tableau d'entiers C en tableau Python\n",
    "\n",
    "recompose = 0\n",
    "for i in range(1, size+1):\n",
    "    print(px[i])\n",
    "    recompose = recompose + px[i]*2**(30*(i-1))\n",
    "\n",
    "print('------------------------')\n",
    "print(recompose)\n",
    "print(bignum)\n",
    "#for p in px:\n",
    "#    print(p, end = ' | ')"
   ]
  },
  {
   "cell_type": "markdown",
   "metadata": {},
   "source": [
    "<a id=\"ENCODAGES_GENERALITES\"></a>\n",
    "# II ENCODAGES : GENERALITES"
   ]
  },
  {
   "cell_type": "markdown",
   "metadata": {},
   "source": [
    "<a id = \"encodages_definitions\"></a>\n",
    "## II.1 Definitions (from python doc)\n",
    "\n",
    "### ----------------- EXTRAIT DE  WIKIPEDIA\n",
    "\n",
    "The Unicode specifications are continually revised and updated to add new languages and symbols.\n",
    "\n",
    "A character is the smallest possible component of a text. ‘A’, ‘B’, ‘C’, etc., are all different characters. So are ‘È’ and ‘Í’. Characters vary depending on the language or context you’re talking about. For example, there’s a character for “Roman Numeral One”, ‘Ⅰ’, that’s separate from the uppercase letter ‘I’. They’ll usually look the same, but these are two different characters that have different meanings.\n",
    "\n",
    "The Unicode standard describes how characters are represented by code points. A code point value is an integer in the range 0 to 0x10FFFF (about 1.1 million values, with some 110 thousand assigned so far). In the standard and in this document, a code point is written using the notation U+265E to mean the character with value 0x265e (9,822 in decimal).\n",
    "\n",
    "**Strictly, these definitions imply that it’s meaningless to say ‘this is character U+265E’. U+265E is a code point, which represents some particular character; in this case, it represents the character ‘BLACK CHESS KNIGHT’, ‘♞’. In informal contexts, this distinction between code points and characters will sometimes be forgotten.**\n",
    "\n",
    "A character is represented on a screen or on paper by a set of graphical elements that’s called a glyph. The glyph for an uppercase A, for example, is two diagonal strokes and a horizontal stroke, though the exact details will depend on the font being used. Most Python code doesn’t need to worry about glyphs; figuring out the correct glyph to display is generally the job of a GUI toolkit or a terminal’s font renderer.\n",
    "\n",
    "**A Unicode string is a sequence of code points, this sequence of code points needs to be represented in memory as a set of code units, and code units are then mapped to 8-bit bytes. The rules for translating a Unicode string into a sequence of bytes are called a character encoding, or just an encoding.**\n",
    "\n",
    "The first encoding you might think of is using 32-bit integers as the code unit, and then using the CPU’s representation of 32-bit integers. This representation is straightforward but using it presents a number of problems.\n",
    "- It’s not portable; different processors order the bytes differently.\n",
    "- It’s very wasteful of space. In most texts, the majority of the code points are less than 127, or less than 255, so a lot of space is occupied by 0x00 bytes. Increased RAM usage doesn’t matter too much (desktop computers have gigabytes of RAM, and strings aren’t usually that large), but expanding our usage of disk and network bandwidth by a factor of 4 is intolerable.\n",
    "- It’s not compatible with existing C functions such as strlen(), so a new family of wide string functions would need to be used.\n",
    "\n",
    "Therefore this encoding isn’t used very much, and people instead choose other encodings that are more efficient and convenient, such as UTF-8.\n",
    "\n",
    "**UTF-8 is one of the most commonly used encodings, and Python often defaults to using it. UTF stands for “Unicode Transformation Format”, and the ‘8’ means that 8-bit values are used in the encoding. (There are also UTF-16 and UTF-32 encodings, but they are less frequently used than UTF-8.) UTF-8 uses the following rules:**\n",
    "- **If the code point is < 128, it’s represented by the corresponding byte value.**\n",
    "- **If the code point is >= 128, it’s turned into a sequence of two, three, or four bytes, where each byte of the sequence is between 128 and 255.**\n",
    "\n",
    "UTF-8 has several convenient properties:\n",
    "- It can handle any Unicode code point.\n",
    "- A Unicode string is turned into a sequence of bytes that contains embedded zero bytes only where they represent the null character (U+0000). This means that UTF-8 strings can be processed by C functions such as strcpy() and sent through protocols that can’t handle zero bytes for anything other than end-of-string markers.\n",
    "- A string of ASCII text is also valid UTF-8 text.\n",
    "- UTF-8 is fairly compact; the majority of commonly used characters can be represented with one or two bytes.\n",
    "- If bytes are corrupted or lost, it’s possible to determine the start of the next UTF-8-encoded code point and resynchronize. It’s also unlikely that random 8-bit data will look like valid UTF-8.\n",
    "- UTF-8 is a byte oriented encoding. The encoding specifies that each character is represented by a specific sequence of one or more bytes. This avoids the byte-ordering issues that can occur with integer and word oriented encodings, like UTF-16 and UTF-32, where the sequence of bytes varies depending on the hardware on which the string was encoded.\n",
    "\n"
   ]
  },
  {
   "cell_type": "markdown",
   "metadata": {},
   "source": [
    "<div class=\"alert alert-info\">\n",
    "\n",
    "Pour résumer, Unicode est un jeu de caractères : il établit une correspondance entre des caractères et des `code points`.\n",
    "\n",
    "Quant à utf-8, c'est l'encodage de ces `code points` en mémoire."
   ]
  },
  {
   "cell_type": "markdown",
   "metadata": {},
   "source": [
    "<a id=\"caracteres_etrangers\"></a>\n",
    "## II.2 Exemples de caractères étrangers et liste des encodages python\n",
    "\n",
    "[Texte I can eat glass : une même phrase dans plein d'encodages](ressources/I_can_eat_glass.txt)\n",
    "\n",
    "[Liste des encodages disponibles dans python 3.6](ressources/Liste_encodages.txt)"
   ]
  },
  {
   "cell_type": "markdown",
   "metadata": {},
   "source": [
    "<a id=\"encodages_usuels\"></a>\n",
    "## II.3 ascii, ansi, iso 8859-1, latin_1, utf-8 ... par Wikipédia\n",
    "\n",
    "https://fr.wikipedia.org/wiki/ISO/CEI_646#Variantes_nationales_de_l%E2%80%99ISO_646\n",
    "\n",
    "Iso 646 (sur 7 bits)\n",
    "- variante de base est l'US (ASCII)\n",
    "- contient d'autres variantes nationales\n",
    "\n",
    "https://stackoverflow.com/questions/701882/what-is-ansi-format\n",
    "\n",
    "ANSI encoding is a slightly generic term used to refer to the standard code page on a system, usually Windows. It is more properly referred to as Windows-1252 on Western/U.S. systems. (It can represent certain other Windows code pages on other systems.) This is essentially an extension of the ASCII character set in that it includes all the ASCII characters with an additional 128 character codes. This difference is due to the fact that \"ANSI\" encoding is 8-bit rather than 7-bit as ASCII is (ASCII is almost always encoded nowadays as 8-bit bytes with the MSB set to 0). \n",
    "\n",
    "The name \"ANSI\" is a misnomer, since it doesn't correspond to any actual ANSI standard, but the name has stuck. ANSI is not the same as UTF-8.\n",
    "\n",
    "https://fr.wikipedia.org/wiki/Windows-1252\n",
    "\n",
    "Windows-1252 est une extension de l'ISO/CEI 8859-1 : il diffère du codage ISO-8859-1 par l'utilisation de caractères imprimables, plutôt que des caractères de contrôle, dans les codes 128 à 159. Pour les utilisateurs de Windows, Microsoft appelle ceci de manière générique ANSI, mais, en fonction de l'endroit où le système d'exploitation a été vendu, l'ensemble de caractères peut avoir un autre nom, comme CP1252 aux États-Unis ou, dans les pays de l'Europe de l'Ouest, le nom validé par l'IANA, Windows-1252. \n",
    "\n",
    "https://fr.wikipedia.org/wiki/ISO/CEI_8859-1\n",
    "\n",
    "La norme ISO 8859-1, dont le nom complet est ISO/CEI 8859-1, et qui est souvent appelée Latin-1 ou Europe occidentale, forme la première partie de la norme internationale ISO/CEI 8859, qui est une norme de l’Organisation internationale de normalisation pour le codage des caractères en informatique.\n",
    "\n",
    "Elle définit ce qu’elle appelle l’alphabet latin numéro 1, qui consiste en 191 caractères de l’alphabet latin, chacun d’entre eux étant codé sur un octet (soit 8 bits). ISO 8859-1 reprend le codage des caractères imprimables d’US-ASCII.\n",
    "\n",
    "Dans les pays occidentaux, cette norme était utilisée par de nombreux systèmes d’exploitation, dont UNIX, Windows ou AmigaOS. Elle a donné lieu à quelques extensions et adaptations, dont Windows-1252 et ISO/CEI 8859-15.\n",
    "\n",
    "https://fr.wikipedia.org/wiki/UTF-8#Interop%C3%A9rabilit%C3%A9\n",
    "\n",
    "utf-8 permet de représenter les milliers de caractères du répertoire universel, commun à la norme ISO/CEI 10646 et au standard Unicode (du moins depuis sa version 1.1.1).\n",
    "Un texte en US-ASCII est codé identiquement en UTF-8 (lorsque le BOM n’est pas utilisé). \n"
   ]
  },
  {
   "cell_type": "markdown",
   "metadata": {},
   "source": [
    "<a id=\"ENCODAGES_PYTHON\"></a>\n",
    "# III : ENCODAGES EN PYTHON\n",
    "\n",
    "Rappelons ici que :\n",
    "- struct.pack fonctionne pour obtenir des *nombres* en bytes, mais pas des caractères ... d'où `encode` et `decode`.\n",
    "- les code point unicode sont compris entre 0x000000 et 0x10FFFF c'est à dire entre 0 et 1 114 111."
   ]
  },
  {
   "cell_type": "markdown",
   "metadata": {},
   "source": [
    "<a id = \"unicode\"></a>\n",
    "## III.1 jouer avec unicode : `ord()   chr()   \\N   \\u   \\U`\n",
    "\n",
    "La méthode `ord()` permet d'obtenir le code point **décimal** d'un caractère donné :"
   ]
  },
  {
   "cell_type": "code",
   "execution_count": null,
   "metadata": {},
   "outputs": [],
   "source": [
    "x = ord('a')\n",
    "y = ord('ç')\n",
    "z = ord('㒕')\n",
    "print(x, y, z)"
   ]
  },
  {
   "cell_type": "markdown",
   "metadata": {},
   "source": [
    "La méthode `chr()` permet d'obtenir le caractère correspondant à un code point en **écriture décimale** :"
   ]
  },
  {
   "cell_type": "code",
   "execution_count": null,
   "metadata": {},
   "outputs": [],
   "source": [
    "x = chr(97)\n",
    "y = chr(231)\n",
    "z = chr(13461)\n",
    "print(x, y, z)"
   ]
  },
  {
   "cell_type": "markdown",
   "metadata": {},
   "source": [
    "On peut aussi insérer, dans une chaîne de caractères, n'importe quel caractère unicode grâce aux préfixes `\\u` ou `\\U` et au code point dudit caractère en **écriture héxadécimale** (pour les caractères ascii on peut se contenter de `\\x` à condition d'être dans la plage 32 à 126, plus 9, 10 et 13) :"
   ]
  },
  {
   "cell_type": "code",
   "execution_count": 4,
   "metadata": {},
   "outputs": [
    {
     "name": "stdout",
     "output_type": "stream",
     "text": [
      "a 㒕 𣾚 A\n"
     ]
    }
   ],
   "source": [
    "x = \"\\N{LATIN SMALL LETTER A}\"     # Using the character name\n",
    "y = '\\u3495'                       # Using a 16-bit hex value\n",
    "z = \"\\U00023F9A\"                   # Using a 32-bit hex value\n",
    "zz = \"\\x41\"\n",
    "print(x, y, z, zz)"
   ]
  },
  {
   "cell_type": "markdown",
   "metadata": {},
   "source": [
    "<a id = \"utf-8\"></a>\n",
    "## III.2 jouer avec utf-8 : `encode()` et `decode()`"
   ]
  },
  {
   "cell_type": "code",
   "execution_count": 7,
   "metadata": {},
   "outputs": [
    {
     "name": "stdout",
     "output_type": "stream",
     "text": [
      "b'abcdef \\xc3\\xa0 \\xc3\\xb9 \\xc3\\xa7 \\xe0\\xb6\\xa7 \\xe3\\x92\\x95 \\xf0\\xa3\\xbe\\x9a'\n"
     ]
    }
   ],
   "source": [
    "ma_chaine = 'abcdef à ù ç ට 㒕 𣾚'\n",
    "mes_bytes = ma_chaine.encode('utf-8')\n",
    "print(mes_bytes)"
   ]
  },
  {
   "cell_type": "code",
   "execution_count": 10,
   "metadata": {},
   "outputs": [
    {
     "name": "stdout",
     "output_type": "stream",
     "text": [
      "abcdef à ù ç ට 㒕 𣾚\n"
     ]
    }
   ],
   "source": [
    "mes_bytes = b'abcdef \\xc3\\xa0 \\xc3\\xb9 \\xc3\\xa7 \\xe0\\xb6\\xa7 \\xe3\\x92\\x95 \\xf0\\xa3\\xbe\\x9a'\n",
    "ma_chaine = mes_bytes.decode('utf-8')\n",
    "print(ma_chaine)"
   ]
  },
  {
   "cell_type": "markdown",
   "metadata": {},
   "source": [
    "<a id = \"unicodedata\"></a>\n",
    "## III.3 jouer avec `unicodedata`"
   ]
  },
  {
   "cell_type": "code",
   "execution_count": 11,
   "metadata": {},
   "outputs": [
    {
     "name": "stdout",
     "output_type": "stream",
     "text": [
      "Ll LATIN SMALL LETTER A\n",
      "a\n"
     ]
    }
   ],
   "source": [
    "import unicodedata\n",
    "\n",
    "c = chr(97)\n",
    "\n",
    "print(unicodedata.category(c), unicodedata.name(c))\n",
    "print(c)"
   ]
  },
  {
   "cell_type": "markdown",
   "metadata": {},
   "source": [
    "<a id=\"mise_en_garde_caracteres_etrangers\"></a>\n",
    "## III.4 mises en garde lors de la manipulation de caractères étrangers ...\n",
    "\n",
    "Regardons les 3 exemples ci-dessous :"
   ]
  },
  {
   "cell_type": "code",
   "execution_count": 12,
   "metadata": {},
   "outputs": [
    {
     "name": "stdout",
     "output_type": "stream",
     "text": [
      "b'\\xe0\\xa4\\xa4\\xe0\\xa5\\x80'\n"
     ]
    }
   ],
   "source": [
    "ma_chaine = 'ती'\n",
    "mes_bytes = ma_chaine.encode('utf-8')\n",
    "print(mes_bytes)"
   ]
  },
  {
   "cell_type": "code",
   "execution_count": 13,
   "metadata": {},
   "outputs": [
    {
     "name": "stdout",
     "output_type": "stream",
     "text": [
      "त\n"
     ]
    }
   ],
   "source": [
    "mes_bytes = b'\\xe0\\xa4\\xa4'\n",
    "ma_chaine = mes_bytes.decode('utf-8')\n",
    "print(ma_chaine)"
   ]
  },
  {
   "cell_type": "code",
   "execution_count": 14,
   "metadata": {},
   "outputs": [
    {
     "name": "stdout",
     "output_type": "stream",
     "text": [
      "ी\n"
     ]
    }
   ],
   "source": [
    "mes_bytes = b'\\xe0\\xa5\\x80'\n",
    "ma_chaine = mes_bytes.decode('utf-8')\n",
    "print(ma_chaine)"
   ]
  },
  {
   "cell_type": "markdown",
   "metadata": {},
   "source": [
    "Ci-dessus un exemple de caractère qui nécessite un autre caractère devant.\n",
    "Lorsqu'on cherche à copier-coller le caractère, en fait on copie-colle deux caractères à la fois...\n",
    "\n",
    "**Culture générale :** (tiré de https://blogs.transparent.com/hindi/dependent-vowels/)\n",
    "\n",
    "In Hindi, the vowels have a dependent form called matra (मात्रा ). Matras (मात्रा ) are vowels that cannot be written alone. They have to be accompanied with a consonant. Matras (मात्रा ) are different from independent vowels because independent vowels can be written alone."
   ]
  },
  {
   "cell_type": "markdown",
   "metadata": {},
   "source": [
    "On pensera aussi aux propriétés suivantes de certains encodages : unicode.bidirectionnal, unicodedata.mirrored, unicodedata.combining, unicodedata.decomposition ..."
   ]
  }
 ],
 "metadata": {
  "kernelspec": {
   "display_name": "Python 3",
   "language": "python",
   "name": "python3"
  },
  "language_info": {
   "codemirror_mode": {
    "name": "ipython",
    "version": 3
   },
   "file_extension": ".py",
   "mimetype": "text/x-python",
   "name": "python",
   "nbconvert_exporter": "python",
   "pygments_lexer": "ipython3",
   "version": "3.6.4"
  }
 },
 "nbformat": 4,
 "nbformat_minor": 2
}
