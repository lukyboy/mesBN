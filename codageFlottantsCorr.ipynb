{
 "cells": [
  {
   "cell_type": "markdown",
   "metadata": {},
   "source": [
    "## Flottants"
   ]
  },
  {
   "cell_type": "markdown",
   "metadata": {},
   "source": [
    "Un nombre flottant est formé de trois éléments : la mantisse, l'exposant et le signe. Le bit de poids fort est le bit de signe : si ce bit est à 1, le nombre est négatif, et s’il est à 0, le nombre est positif. Les e bits suivants représentent l'exposant décalé, et les m bits suivants (m bits de poids faible) représentent la mantisse.\n",
    "\n",
    "### Format général flottants IEEE 754\n",
    "\n",
    "| Signe| Exposant décalé| Mantisse|\n",
    "|:------------:|:---------------------:|:-------------:|\n",
    "| (1 bit)| (e bits)| (m bits)|\n",
    " \t\n",
    "    \n",
    "### Décalage de l'exposant\n",
    "\n",
    "L'exposant peut être positif ou négatif. Afin de garantir la compatibilité des comparaisons entre les entiers naturels et entre les flottants on n'utilise pas le C2. Ici l'exposant est **décalé**, afin de le stocker sous forme d'un nombre non signé. Ce décalage est de $2^{e−1} − 1$ ($e$ représente le nombre de bits de l'exposant) ; il s'agit donc d'une valeur constante une fois que le nombre de bits $e$ est fixé.\n",
    "\n",
    "L'interprétation d'un nombre (autre qu'infini) est donc :\n",
    "\n",
    "valeur = signe × mantisse × 2(exposant − décalage)\n",
    "\n",
    "avec\n",
    "\n",
    "signe = ±1\n",
    "\n",
    "decalage = $2^{e−1} − 1$ \n",
    "\n",
    "### Exceptions\n",
    "\n",
    "Dans le cas général (l'exposant est différent de 0 et de $2^e − 1$), le bit de poids fort de la mantisse est toujours égal à 1. De ce fait il est inutile de le représenter explicitement.  Le nombre est dit « normalisé ». Si l'exposant décalé est nul, le bit de poids fort de la mantisse est nul, et le nombre est 'dé-normalisé'. \n",
    "\n",
    "Il y a trois cas particuliers :\n",
    "\n",
    "- si l'exposant décalé et la mantisse sont tous deux nuls, le nombre est ±0 (selon le bit de signe)\n",
    "- si l'exposant décalé est égal à $ 2^{e} - 1$, et si la mantisse est nulle, le nombre est ±$\\inf$ (selon le bit de signe)\n",
    "- si l'exposant décalé est égal à $ 2^{e} - 1$, mais que la mantisse n'est pas nulle, le nombre est NaN (not a number : pas un nombre).\n",
    "\n",
    "Type| \tExposant décalé| \tMantisse\n",
    ":------------:|:---------------------:|:-------------:\n",
    "Zéros| \t0| \t0\n",
    "Nombres dénormalisés |\t0 |\tdifférente de 0\n",
    "Nombres normalisés \t| 1 à $2^e-2 $|\tquelconque\n",
    "Infinis |\t$ 2^e-1 $|\t0\n",
    "NaNs |$ 2^e-1 $|\tdifférente de 0 \n",
    "\n",
    "\n",
    "La norme IEEE754-2008 prévoit 3 types de configurations en fonction du nombre de bits disponibles pour représenter les flottants:\n",
    "\n",
    " `     `|Simple précision|Double précision|Quadruple précision\n",
    ":---------------------:|:------------:|:---------------------:|:-------------:\n",
    "Bit de signe|1|1|1\n",
    "Bits de l’exposant|8|11|15\n",
    "Bits de la mantisse|23|52|112\n",
    "Nombre total de bits|32|64|128\n",
    "Codage de l’exposant|Excédant 127|Excédant 1023|Excédant 16383\n",
    "Variation de l’exposant|-126 à +127|-1022 à +1023|-16382 à 16383\n",
    "Plus petit nombre normalisé|$2^{-126}$|$2^{-1022}$|$2^{-16382}$\n",
    "Plus grand nombre normalisé|$2^{+128}$|$2^{+1024}$|$2^{+16384}$\n",
    "Échelle des nombres décimaux|environ $10^{–38}$ à $10^{+38}$|$10^{-308}$ à $10^{+308}$|$10^{-4932}$ à $10^{+4932}$\n",
    "Plus petit nombre non normalisé|environ $10^{-45}$|environ $10^{-324}$|\n",
    "\n",
    "\n",
    "\n",
    "Exemple:\n",
    "\n",
    "$1= (signe,exposant,mantisse)= (+,0,1.0)$ ce qui donne: $1=(0,0+2^{e−1} − 1,0)$\n",
    "\n",
    "et en binaire si on représente tous les bits sur 64 bits: \n",
    "\n",
    "$1=(0,01111111111,0000000000000000000000000000000000000000000000000000)$\n",
    "\n",
    "Ce qui est concaténé sur 64 bits:\n",
    "\n",
    "$0011111111110000000000000000000000000000000000000000000000000000$\n",
    "\n",
    "Mais c'est un brin illisible donc on représente cela sous forme hexadécimale:\n",
    "\n",
    "$3FF0000000000000$\n",
    "\n",
    "Autre exemple: \n",
    "\n",
    "\n",
    "|Base 10|Base 16|Base 2|\n",
    "|-----|-----|-----|\n",
    "|3.14|40091eb851eb851f|0100000000001001000111101011100001010001111010111000010100011111|\n",
    "\n",
    "\n",
    "\n"
   ]
  },
  {
   "cell_type": "markdown",
   "metadata": {},
   "source": [
    "Pour accéder à la représentation en mémoire d'un flottant, on le met sous la forme d'une séquence de bytes. La fonction \"pack\" du module struct (https://docs.python.org/3/library/struct.html) permet d'effectuer cette transformation, on note en particulier l'usage de \"!\" pour fixer une représentation gros-boutiste. D'autre part, les flottants en python sont représentés en double précision (binary64). La fonction unpack fait la transformation inverse.\n",
    "\n",
    "La chaîne de caractères produite est préfixée par \"b\" et est la suite des codes ascii (ou de leur interprétation si elle est affichable) représentant les codes hexadécimaux des octets.\n",
    "\n",
    "\n",
    "<img src=\"fig/1280px-USASCII_code_chart.png\" alt=\"1280px-USASCII_code_chart.png\"\n",
    "\ttitle=\"1280px-USASCII_code_chart.png\" width=\"400\"  />\n",
    "\n",
    "Testez le code suivant avec les valeurs 1.0 , 3.14 et 13019830.68\n",
    "\n",
    "Expliquez les valeurs que vous affichez.\n",
    "\n",
    "\n",
    "Aide:\n",
    "```python\n",
    "from struct import pack,unpack\n",
    "\n",
    "t=pack('!d',13019830.68)\n",
    "print(s)  #d signifie que l'on utilise la représentation en double précision, f pour la simple précision\n",
    "\n",
    "print(\"{:x}\".format(t[0]))  # il est aussi possible de lire la première case du tableau retourné par unpack et contenant le début de la séquence de bytes \n",
    "```"
   ]
  },
  {
   "cell_type": "code",
   "execution_count": 1,
   "metadata": {},
   "outputs": [
    {
     "name": "stdout",
     "output_type": "stream",
     "text": [
      "b'Ah\\xd5V\\xd5\\xc2\\x8f\\\\'\n",
      "b'?\\xf0\\x00\\x00\\x00\\x00\\x00\\x00'\n",
      "b'@\\t\\x1e\\xb8Q\\xeb\\x85\\x1f'\n",
      "40\n"
     ]
    }
   ],
   "source": [
    "from struct import pack,unpack\n",
    "\n",
    "t=pack('!d',13019830.68)\n",
    "print(t)  #d signifie que l'on utilise la représentation en double précision, f pour la simple précision\n",
    "\n",
    "t=pack('!d',1.0)\n",
    "print(t)  # d signifie que l'on utilise la représentation en double précision, f pour la simple précision\n",
    "\n",
    "t=pack('!d',3.14)\n",
    "print(t) \n",
    "\n",
    "print(\"{:x}\".format(t[0]))  # il est aussi possible de lire la première case du tableau retourné par unpack et contenant le début de la séquence de bytes "
   ]
  },
  {
   "cell_type": "markdown",
   "metadata": {},
   "source": [
    "\"La suite des codes ascii (ou de leur interprétation si elle est affichable) représentant les codes hexadécimaux des octets\"... Ce n'est guère lisible! Faites en sorte d'afficher directement en hexadécimal la séquence de bytes du flottant. Coder cette fonction, puis utilisez-là pour visualiser le format flottant pour  1.0 , 3.14 et 13019830.68\n",
    "\n",
    "```Python\n",
    "from struct import pack,unpack\n",
    "\n",
    "\n",
    "def floattohexa(f):\n",
    "    \"\"\"Retourne une chaine représentant le flottant en hexadécimal\"\"\"\n",
    "    t=pack('!d',f)\n",
    "    s=\"\"\n",
    "    pass  # changer le code ici\n",
    "    return s\n",
    "\n",
    "print(floattohexa(3.14))\n",
    "print(floattohexa(1.0))\n",
    "print(floattohexa(13019830.68))\n",
    "```"
   ]
  },
  {
   "cell_type": "code",
   "execution_count": 7,
   "metadata": {},
   "outputs": [
    {
     "name": "stdout",
     "output_type": "stream",
     "text": [
      "40091eb851eb851f\n",
      "3ff0000000000000\n",
      "4168d556d5c28f5c\n"
     ]
    }
   ],
   "source": [
    "from struct import pack,unpack\n",
    "\n",
    "\n",
    "def floattohexa(f):\n",
    "    \"\"\"Retourne une chaine représentant le flottant en hexadécimal\"\"\"\n",
    "    t=pack('!d',f)\n",
    "    s=\"\"\n",
    "    for i in range(0,8):\n",
    "        s+=\"{:{fill}2x}\".format(t[i], fill='0')\n",
    "    return s\n",
    "\n",
    "print(floattohexa(3.14))\n",
    "print(floattohexa(1.0))\n",
    "print(floattohexa(13019830.68))\n"
   ]
  },
  {
   "cell_type": "markdown",
   "metadata": {},
   "source": [
    "On souhaite maintenant pouvoir obtenir le triplet (signe, exposant, mantisse) décrivant un flottant donné. Pour ce faire, on crée une nouvelle fonction sur le modèle de ``` floattohexa```:\n",
    "\n",
    "```Python\n",
    "def floattobin(f):\n",
    "    \"\"\"Retourne une chaine représentant le flottant en binaire\"\"\"\n",
    "    t=pack('!d',f)\n",
    "    s=\"\"\n",
    "    pass  #changer le code ici\n",
    "    return s\n",
    "```\n",
    "\n",
    "Puis on récupére les bits correspondants au signe, à l'exposant et à la mantisse et les convertir en entier.\n",
    "\n",
    "```Python\n",
    "\n",
    "def triplet(f):\n",
    "    \"\"\"\n",
    "        Prend en argument un flottant en double précision et retourne le triplet:\n",
    "        -s, le bit de signe\n",
    "        -e, l'exposant sous forme d'entier\n",
    "        -m, la mantisse en hexadécimal.\n",
    "    \n",
    "    \"\"\"\n",
    "    bytes=pack('!d',f)\n",
    "\n",
    "    s=floattobin(f)\n",
    "    return (......)\n",
    "\n",
    "\n",
    "print(triplet(13019830.68))\n",
    "print(triplet(1.0))\n",
    "print(triplet(3.14))\n",
    "```\n",
    "\n",
    "On obtient:\n",
    "\n",
    "```\n",
    "(0, 23, '8d556d5c28f5c')\n",
    "(0, 0, '0')\n",
    "(0, 1, '91eb851eb851f')\n",
    "```   "
   ]
  },
  {
   "cell_type": "code",
   "execution_count": 9,
   "metadata": {
    "scrolled": true
   },
   "outputs": [
    {
     "name": "stdout",
     "output_type": "stream",
     "text": [
      "(0, 23, '8d556d5c28f5c')\n",
      "(0, 0, '0')\n",
      "(0, 1, '91eb851eb851f')\n"
     ]
    }
   ],
   "source": [
    "def floattobin(f):\n",
    "    \"\"\"Retourne une chaine représentant le flottant en hexadécimal\"\"\"\n",
    "    t=pack('!d',f)\n",
    "    s=\"\"\n",
    "    for i in range(0,8):\n",
    "        s+=\"{:{fill}8b}\".format(t[i], fill='0')\n",
    "    return s\n",
    "\n",
    "def triplet(f):\n",
    "    \"\"\"\n",
    "        Prend en argument un flottant en double précision et retourne le triplet:\n",
    "        -s, le bit de signe\n",
    "        -e, l'exposant sous forme d'entier\n",
    "        -m, la mantisse en hexadécimal.\n",
    "    \n",
    "    \"\"\"\n",
    "    bytes=pack('!d',f)\n",
    "\n",
    "    s=floattobin(f)\n",
    "    return (int(s[:1],2),int(s[1:12],2)-1023,\"{:x}\".format(int(s[12:],2)))\n",
    "\n",
    "\n",
    "print(triplet(13019830.68))\n",
    "print(triplet(1.0))\n",
    "print(triplet(3.14))\n",
    "   "
   ]
  },
  {
   "cell_type": "markdown",
   "metadata": {},
   "source": [
    "Écrire la fonction inverse dans le cas des flottants normalisés. Elle prend en entrée un triplet (s,e,m) et retourne le flottant correspondant. Il est possible de le faire en une seule expression.  Essayez la avec les triplets suivants. Que constatez-vous?\n",
    "\n",
    "- (0, 23, '8d556d5c28f5c')\n",
    "- (0, 0, '0')\n",
    "- (0, 1, '91eb851eb851f')\n",
    "\n",
    "```Python\n",
    "from decimal import Decimal\n",
    "\n",
    "def flottant(s,e,m):\n",
    "    \"\"\"Retourne le flottant en double précision décrit par :\n",
    "        -son bit de signe s\n",
    "        -son exposant e\n",
    "        -sa mantisse m\n",
    "    \"\"\"\n",
    "    return ......\n",
    "\n",
    "\n",
    "print(Decimal(flottant(0, 23, '8d556d5c28f5c'))) \n",
    "print(Decimal(flottant(0, 0, '0'))) \n",
    "print(Decimal(flottant(0, 1, '91eb851eb851f'))) \n",
    "\n",
    "print(Decimal(flottant(*(triplet(1.0)))))  \n",
    "print(Decimal(flottant(*(triplet(1.0)))))  \n",
    "print(Decimal(flottant(*(triplet(1.0)))))  \n",
    "```\n",
    "\n"
   ]
  },
  {
   "cell_type": "code",
   "execution_count": 10,
   "metadata": {},
   "outputs": [
    {
     "name": "stdout",
     "output_type": "stream",
     "text": [
      "13019830.679999999701976776123046875\n",
      "1\n",
      "3.140000000000000124344978758017532527446746826171875\n",
      "13019830.679999999701976776123046875\n",
      "1\n",
      "3.140000000000000124344978758017532527446746826171875\n"
     ]
    }
   ],
   "source": [
    "from decimal import Decimal\n",
    "\n",
    "def flottant(s,e,m):\n",
    "    \"\"\"Retourne le flottant en double précision décrit par :\n",
    "        -son bit de signe s\n",
    "        -son exposant e\n",
    "        -sa mantisse m\n",
    "    \"\"\"\n",
    "\n",
    "    return ((-1)**(s))*(1+int(m,16)/(2**(52)))*2**(e)\n",
    "\n",
    "\n",
    "print(Decimal(flottant(0, 23, '8d556d5c28f5c'))) \n",
    "print(Decimal(flottant(0, 0, '0'))) \n",
    "print(Decimal(flottant(0, 1, '91eb851eb851f'))) \n",
    "\n",
    "print(Decimal(flottant(*(triplet(13019830.68)))))  \n",
    "print(Decimal(flottant(*(triplet(1.0)))))  \n",
    "print(Decimal(flottant(*(triplet(3.14)))))  "
   ]
  },
  {
   "cell_type": "markdown",
   "metadata": {},
   "source": [
    "Les valeurs des flottants sont (presque) toujours des approximations. Testez avec 0.1, 0.2, 0.3 "
   ]
  },
  {
   "cell_type": "code",
   "execution_count": 5,
   "metadata": {},
   "outputs": [
    {
     "name": "stdout",
     "output_type": "stream",
     "text": [
      "0.1000000000000000055511151231257827021181583404541015625\n",
      "0.200000000000000011102230246251565404236316680908203125\n",
      "0.299999999999999988897769753748434595763683319091796875\n"
     ]
    }
   ],
   "source": [
    "print(Decimal(0.1))\n",
    "print(Decimal(0.2))\n",
    "print(Decimal(0.3))"
   ]
  },
  {
   "cell_type": "markdown",
   "metadata": {},
   "source": [
    "Mais c'est facile d'oublier cette aproximation:"
   ]
  },
  {
   "cell_type": "code",
   "execution_count": 6,
   "metadata": {},
   "outputs": [
    {
     "name": "stdout",
     "output_type": "stream",
     "text": [
      "0.1\n",
      "0.2\n",
      "0.3\n"
     ]
    }
   ],
   "source": [
    "print(0.1)\n",
    "print(0.2)\n",
    "print(0.3)"
   ]
  },
  {
   "cell_type": "markdown",
   "metadata": {},
   "source": [
    "Toutefois elle se rappelle facilement à nous... Essayez à présent d'additionner 0.1 et 0.2 "
   ]
  },
  {
   "cell_type": "code",
   "execution_count": 7,
   "metadata": {},
   "outputs": [
    {
     "name": "stdout",
     "output_type": "stream",
     "text": [
      "0.30000000000000004\n"
     ]
    }
   ],
   "source": [
    "print(0.1+0.2) "
   ]
  },
  {
   "cell_type": "markdown",
   "metadata": {},
   "source": [
    "La documentation de la primitive `round()` indique qu’elle arrondit à la valeur la plus proche en s’**éloignant de zéro** s'il y a équidistance entre deux valeurs. Comme expliquez-vous le comportement suivant?"
   ]
  },
  {
   "cell_type": "code",
   "execution_count": 8,
   "metadata": {},
   "outputs": [
    {
     "name": "stdout",
     "output_type": "stream",
     "text": [
      "2.67\n"
     ]
    }
   ],
   "source": [
    "print(round(2.675, 2))"
   ]
  },
  {
   "cell_type": "code",
   "execution_count": 9,
   "metadata": {},
   "outputs": [
    {
     "name": "stdout",
     "output_type": "stream",
     "text": [
      "2.6699999999999999289457264239899814128875732421875\n",
      "2.67499999999999982236431605997495353221893310546875\n",
      "2.680000000000000159872115546022541821002960205078125\n"
     ]
    }
   ],
   "source": [
    "print(Decimal(2.67))\n",
    "print(Decimal(2.675))\n",
    "print(Decimal(2.68))\n",
    "\n"
   ]
  },
  {
   "cell_type": "markdown",
   "metadata": {},
   "source": [
    "Une autre conséquence du fait que 0.1 n’est pas exactement stocké 1/10 est que la somme de dix valeurs de 0.1 ne donne pas 1.0 non plus"
   ]
  },
  {
   "cell_type": "code",
   "execution_count": 11,
   "metadata": {},
   "outputs": [
    {
     "name": "stdout",
     "output_type": "stream",
     "text": [
      "0.9999999999999999\n"
     ]
    }
   ],
   "source": [
    "sum = 0.0\n",
    "nbtours=10\n",
    "for i in range(nbtours):\n",
    "    sum += 0.1\n",
    "print(sum)\n"
   ]
  },
  {
   "cell_type": "markdown",
   "metadata": {},
   "source": [
    "Testez avec 10000000 tours et calculez l'écart final avec la valeur que l'on aurait dû trouver si la réprésentation était parfaite."
   ]
  },
  {
   "cell_type": "code",
   "execution_count": 12,
   "metadata": {},
   "outputs": [
    {
     "name": "stdout",
     "output_type": "stream",
     "text": [
      "0.0001610246254131198\n"
     ]
    }
   ],
   "source": [
    "sum = 0.0\n",
    "nbtours=10000000\n",
    "for i in range(nbtours):\n",
    "    sum += 0.1\n",
    "print(nbtours*0.1-sum)\n"
   ]
  },
  {
   "cell_type": "markdown",
   "metadata": {},
   "source": [
    "Mais dans d'autres langages, les choses peuvent être pires. Par exemple en Java on peut utiliser les flottants sur 32 bits. Il est possible d'utiliser ce type en Python avec la librairie numpy."
   ]
  },
  {
   "cell_type": "code",
   "execution_count": 13,
   "metadata": {},
   "outputs": [
    {
     "name": "stdout",
     "output_type": "stream",
     "text": [
      "0.1\n"
     ]
    }
   ],
   "source": [
    "import numpy\n",
    "\n",
    "sum = numpy.float32(0.0)\n",
    "x = numpy.float32(0.1)\n",
    "print(x)"
   ]
  },
  {
   "cell_type": "markdown",
   "metadata": {},
   "source": [
    "Dans ce cas le flottant est codé non plus sur 64 bits mais seulement sur 32. Observez les conséquences sur l'exemple précédent."
   ]
  },
  {
   "cell_type": "code",
   "execution_count": 14,
   "metadata": {},
   "outputs": [
    {
     "name": "stdout",
     "output_type": "stream",
     "text": [
      "-1.1920928955078125e-07\n",
      "-0.11920928955078125\n",
      "-87937.0\n"
     ]
    }
   ],
   "source": [
    "sum = numpy.float32(0.0)\n",
    "nbtours=10\n",
    "for i in range(nbtours):\n",
    "    sum += numpy.float32(0.1)\n",
    "print(nbtours*0.1-sum)\n",
    "print(1000000*(nbtours*0.1-sum))\n",
    "\n",
    "sum = numpy.float32(0.0)\n",
    "nbtours=10000000\n",
    "for i in range(nbtours):\n",
    "    sum += numpy.float32(0.1)\n",
    "print(nbtours*0.1-sum)"
   ]
  },
  {
   "cell_type": "markdown",
   "metadata": {},
   "source": [
    "## Cas d'école: \n",
    "\n",
    "Le 25 février 1991, un missile Patriote échoue à intercepter un missile Scud à Dharan.  Dans la batterie de missile, afin de calculer la trajectoire d'interception, un compteur compte les 1/10 de seconde. Puis ce nombre est multiplié par 0.1 qui est stocké dans un registre de 24 bits mais pas en virgule flottante. Ce nombre est stocké en virgule fixe comme ceci:\n",
    "\n",
    " `0.00011001100110011001100`\n",
    "\n",
    "Pour transposer ce choix en virgule flottante, il faudrait n'utiliser qu'une faible portion de la capacité de représentation. Cela revient pour la représentation de 0.1 à remplacer: \n",
    "\n",
    "`(0, -4, '999999999999a')`\n",
    "\n",
    "par:\n",
    "\n",
    "`(0, -4, '9999800000000')`\n",
    "\n",
    "Expliquez.\n",
    "\n",
    "A l'aide de votre travail en Python affichez l'écart que cela représente. \n",
    "\n",
    "Tester ce que cela donne au bout de 100h (temps que la batterie a été mise en service alors).\n",
    "\n",
    "Sachant qu'un missile Scud se déplace à environ 1 676 mètres par seconde, quel écart de distance cela donne-t-il? \n"
   ]
  },
  {
   "cell_type": "code",
   "execution_count": 15,
   "metadata": {},
   "outputs": [
    {
     "name": "stdout",
     "output_type": "stream",
     "text": [
      "0011111110111001100110011001100110011001100110011001100110011010\n",
      "(0, -4, '999999999999a')\n",
      "0.099999904632568359375\n",
      "Ecart en seconde:  9.536743164617612e-08\n",
      "Ecart en seconde apres 100h:  0.343322753926234\n",
      "Ecart en metres apres 100h:  575.4089355803682 m\n"
     ]
    }
   ],
   "source": [
    "\n",
    "print(floattobin(0.1))\n",
    "print(triplet(0.1))\n",
    "print(Decimal(flottant(0, -4, '9999800000000'))) \n",
    "ecart=(0.1-flottant(0, -4, '9999800000000'))\n",
    "print(\"Ecart en seconde: \",ecart)\n",
    "temps=100*60*60*10\n",
    "print(\"Ecart en seconde apres 100h: \",ecart*temps)\n",
    "print(\"Ecart en metres apres 100h: \",ecart*temps*1676,\"m\")\n"
   ]
  },
  {
   "cell_type": "code",
   "execution_count": null,
   "metadata": {},
   "outputs": [],
   "source": []
  }
 ],
 "metadata": {
  "kernelspec": {
   "display_name": "Python 3",
   "language": "python",
   "name": "python3"
  },
  "language_info": {
   "codemirror_mode": {
    "name": "ipython",
    "version": 3
   },
   "file_extension": ".py",
   "mimetype": "text/x-python",
   "name": "python",
   "nbconvert_exporter": "python",
   "pygments_lexer": "ipython3",
   "version": "3.7.0"
  }
 },
 "nbformat": 4,
 "nbformat_minor": 2
}
