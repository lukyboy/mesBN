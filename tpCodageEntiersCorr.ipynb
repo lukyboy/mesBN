{
 "cells": [
  {
   "cell_type": "markdown",
   "metadata": {},
   "source": [
    "# Représentation des entiers, un peu de Python..."
   ]
  },
  {
   "cell_type": "markdown",
   "metadata": {},
   "source": [
    "Lors de la conception d'un programme les objects du monde réel (abstraits ou concrets) doivent être représentés sous une forme numérique. Cette capacité de modélisation est l'une des difficultés principales pour l'apprenti programmeur qu'il soit débutant ou non. Pire, pour les débutants, cet aspect est souvent négligé au profit de l'algorithmique et finalement une partie des élèves ne parviennent pas même à concevoir les algorithmes répondant à un problème posé dans un énoncé en français faute d'être capables d'imaginer quels objets numériques pourraient représenter le problème à résoudre. Les méthodes d'analyse permettent de répondre à cette difficulté mais, in fine, il faudra bien faire rentrer le modèle dans des représentations numériques de base telles que les chaînes de caractères, les nombres entiers, les nombres décimaux... \n",
    "Cette séquence de travail vous donnera des éléments permettant de manipuler des concepts python et de les illustrer sur le sujet de la représentation des nombres entiers.  \n",
    "\n"
   ]
  },
  {
   "cell_type": "markdown",
   "metadata": {
    "scrolled": true
   },
   "source": [
    "## 1. Conversion du décimal au binaire\n",
    "### Entiers\n",
    "Observer le fonctionnement des fonctions suivantes.\n",
    "\n",
    "```python\n",
    "a=42\n",
    "b=1200\n",
    "print(a)\n",
    "print(\"{}\".format(a))\n",
    "print(\"{}\".format(b))\n",
    "```"
   ]
  },
  {
   "cell_type": "code",
   "execution_count": 48,
   "metadata": {},
   "outputs": [
    {
     "name": "stdout",
     "output_type": "stream",
     "text": [
      "42\n",
      "42\n",
      "1200\n"
     ]
    }
   ],
   "source": [
    "a=42\n",
    "b=1200\n",
    "print(a)\n",
    "print(\"{}\".format(a))\n",
    "print(\"{}\".format(b))"
   ]
  },
  {
   "cell_type": "markdown",
   "metadata": {},
   "source": [
    "Il est possible de changer le format d'affichage. Expliquez les sorties suivantes:\n",
    "\n",
    "```python\n",
    "print(\"{:b}\".format(a))\n",
    "print(\"{:b}\".format(b))\n",
    "```"
   ]
  },
  {
   "cell_type": "code",
   "execution_count": 49,
   "metadata": {},
   "outputs": [
    {
     "name": "stdout",
     "output_type": "stream",
     "text": [
      "101010\n",
      "10010110000\n"
     ]
    }
   ],
   "source": [
    "print(\"{:b}\".format(a))\n",
    "print(\"{:b}\".format(b))"
   ]
  },
  {
   "cell_type": "markdown",
   "metadata": {},
   "source": [
    "Si la base deux joue un rôle prépondérant en informatique, l'autre base également\n",
    "utilisée de façon fréquente est la base 16, dite hexadécimale. Elle permet de décrire ou\n",
    "de manipuler commodément une longue suite de bits. Il serait en effet vite difficile de manipuler des grandes séquences de bits, pour par exemple explorer un fichier ou entrer un code WIFI. On multiplierait ainsi les risques d'erreurs. Le cerveau humain est plus accoutumé à un faible nombre de symboles puisés parmi un grand choix plutôt qu'à une immense suite de symboles même s'ils sont puisés dans un ensemble de faible étendue.\n",
    "\n",
    "Expliquez ceci:\n",
    "```python\n",
    "print(\"{:x}\".format(a))\n",
    "print(\"{:x}\".format(b))\n",
    "```"
   ]
  },
  {
   "cell_type": "code",
   "execution_count": 50,
   "metadata": {
    "scrolled": true
   },
   "outputs": [
    {
     "name": "stdout",
     "output_type": "stream",
     "text": [
      "2a\n",
      "4b0\n"
     ]
    }
   ],
   "source": [
    "print(\"{:x}\".format(a))\n",
    "print(\"{:x}\".format(b))"
   ]
  },
  {
   "cell_type": "markdown",
   "metadata": {},
   "source": [
    "On peut aussi faire l'inverse:\n",
    "```python\n",
    "  a=int(\"101010\",2)\n",
    "  print(a)\n",
    "```\n",
    "\n",
    "Testez avec `b`et avec d'autres bases..."
   ]
  },
  {
   "cell_type": "code",
   "execution_count": 75,
   "metadata": {},
   "outputs": [
    {
     "name": "stdout",
     "output_type": "stream",
     "text": [
      "42\n",
      "42\n",
      "1200\n",
      "1200\n"
     ]
    }
   ],
   "source": [
    "a=int(\"101010\",2)\n",
    "print(a)\n",
    "print(\"{}\".format(a))\n",
    "b=int(\"4b0\",16)\n",
    "print(b)\n",
    "print(\"{}\".format(b))\n"
   ]
  },
  {
   "cell_type": "markdown",
   "metadata": {},
   "source": [
    "Il est même possible de formater la sortie en imposant un format précis:"
   ]
  },
  {
   "cell_type": "markdown",
   "metadata": {},
   "source": [
    "```Python\n",
    "print(\"{0:{fill}8b}\".format(a, fill='0'))\n",
    "```"
   ]
  },
  {
   "cell_type": "code",
   "execution_count": 3,
   "metadata": {},
   "outputs": [
    {
     "name": "stdout",
     "output_type": "stream",
     "text": [
      "00101010\n"
     ]
    }
   ],
   "source": [
    "print(\"{0:{fill}8b}\".format(a, fill='0'))"
   ]
  },
  {
   "cell_type": "markdown",
   "metadata": {},
   "source": [
    "Que se passe-t-il si on souhaite afficher un négatif?"
   ]
  },
  {
   "cell_type": "code",
   "execution_count": 4,
   "metadata": {
    "scrolled": true
   },
   "outputs": [
    {
     "name": "stdout",
     "output_type": "stream",
     "text": [
      "-0101010\n"
     ]
    }
   ],
   "source": [
    "print(\"{0:{fill}8b}\".format(-a, fill='0'))"
   ]
  },
  {
   "cell_type": "markdown",
   "metadata": {},
   "source": [
    "Il serait naturel de représenter les entiers relatifs en utilisant un bit pour le signe et les autres pour la valeur absolue. Ainsi, avec des mots de 16 bits, on utiliserait 1 bit pour le signe et 15 bits pour la valeur absolue. Mais, outre l'existence de deux zéros, cela ne facilite pas du tout les traitements arithmétiques. \n",
    "\n",
    "La plupart des langages appliquent une autre méthode, qui consiste à représenter un entier relatif par\n",
    "un entier naturel. Si on utilise des mots de 16 bits, on peut représenter les **entiers relatifs** compris entre -32 768 et 32767. Donc sur 16 bits, on représente un entier relatif z **positif ou nul**\n",
    "comme l'entier naturel x et un entier relatif r **strictement négatif** comme l'entier naturel\n",
    "$x + 2^{16} = x + 65 536$, qui est compris entre 32 768 et 65 535. Ainsi, les entiers naturels\n",
    "de 0 à 32 767 correspondent aux entiers relatifs positifs ou nuls, à droite sur la figure ci-dessous et\n",
    "les entiers naturels de 32 768 à 65 535 représentent les entiers relatifs strictement négatifs\n",
    "à gauche sur cette même figure.\n",
    "\n",
    "\n",
    "<img src=\"fig/cerclemodulo.png\" alt=\"cercleModulo.png\"\n",
    "\ttitle=\"cercleModulo.png\" width=\"200\"  />\n",
    "\n",
    "\n",
    "Finalement on peut résumer la situation ainsi: dans certains intervalles fixés par les limites imposées par le nombre de bits disponibles noté $Nb$, les entiers relatifs sont représentés par leur valeur modulo $2^{Nb}$.\n",
    "\n",
    "Explorons ce mode de repésentation dénommé **C2**.\n",
    "\n",
    "Lorsque l'on s'intéresse au C2, il faut d'abord s'entendre sur le nombre de bits sur lequel on travaille. Certains processeurs (plutôt anciens) travaillent sur des représentations sur 8 bits. Dans ce cas les entiers relatifs vont de $-2^{8}$ à $2^{7}-1$. \n",
    "\n",
    "Utilisez les formats d'affichage en Python afin de représenter a=42 et b=-42 sur 8 bits en **C2** \n"
   ]
  },
  {
   "cell_type": "code",
   "execution_count": 13,
   "metadata": {
    "scrolled": false
   },
   "outputs": [
    {
     "name": "stdout",
     "output_type": "stream",
     "text": [
      "00101010\n",
      "11010110\n"
     ]
    }
   ],
   "source": [
    "print(\"{0:{fill}8b}\".format(a%256, fill='0'))\n",
    "b=-a\n",
    "print(\"{0:{fill}8b}\".format(b%256, fill='0'))"
   ]
  },
  {
   "cell_type": "markdown",
   "metadata": {},
   "source": [
    "Effectuez l'opération $c=b+1$ et affichez en **C2**."
   ]
  },
  {
   "cell_type": "code",
   "execution_count": 53,
   "metadata": {},
   "outputs": [
    {
     "name": "stdout",
     "output_type": "stream",
     "text": [
      "10110001\n"
     ]
    }
   ],
   "source": [
    "c=b+1\n",
    "print(\"{0:{fill}8b}\".format(c%256, fill='0'))"
   ]
  },
  {
   "cell_type": "markdown",
   "metadata": {},
   "source": [
    "Affichez l'opposé de c:   $d=-c $ et affichez en **C2**."
   ]
  },
  {
   "cell_type": "code",
   "execution_count": 55,
   "metadata": {},
   "outputs": [
    {
     "name": "stdout",
     "output_type": "stream",
     "text": [
      "01001111\n"
     ]
    }
   ],
   "source": [
    "d=-c\n",
    "print(\"{0:{fill}8b}\".format(d%256, fill='0'))"
   ]
  },
  {
   "cell_type": "markdown",
   "metadata": {},
   "source": [
    "Affichez l'addition de $e=d+b$  et affichez en **C2**. Comment interpréter ce résultat?"
   ]
  },
  {
   "cell_type": "code",
   "execution_count": 56,
   "metadata": {},
   "outputs": [
    {
     "name": "stdout",
     "output_type": "stream",
     "text": [
      "11111111\n"
     ]
    }
   ],
   "source": [
    "e=d+b\n",
    "print(\"{0:{fill}8b}\".format(e%256, fill='0'))"
   ]
  },
  {
   "cell_type": "markdown",
   "metadata": {},
   "source": [
    "Passage à 32 bits. Refaites les mêmes calculs et affichages mais cette fois-ci sur 32 bits.\n",
    "Affichez les limites de représentations sur 32bits.\n",
    "Nota: en Python l'exposant est dénoté: `**` par exemple $x^2$ est codé ainsi: `x**2`"
   ]
  },
  {
   "cell_type": "code",
   "execution_count": 31,
   "metadata": {},
   "outputs": [
    {
     "name": "stdout",
     "output_type": "stream",
     "text": [
      "00000000000000000000000000101010\n",
      "11111111111111111111111111010110\n",
      "11111111111111111111111111010111\n",
      "00000000000000000000000000101001\n",
      "min:   -2147483648 max:   2147483647\n"
     ]
    }
   ],
   "source": [
    "largeur=32\n",
    "print(\"{0:{fill}32b}\".format(a%(2**largeur), fill='0'))\n",
    "b=-a\n",
    "print(\"{0:{fill}32b}\".format(b%(2**largeur), fill='0'))\n",
    "c=b+1\n",
    "print(\"{0:{fill}32b}\".format(c%(2**largeur), fill='0'))\n",
    "d=-c\n",
    "print(\"{0:{fill}32b}\".format(d%(2**largeur), fill='0'))\n",
    "min=-2**(largeur-1)\n",
    "max=2**(largeur-1)-1\n",
    "print(\"min:  \",min,\"max:  \",max)"
   ]
  },
  {
   "cell_type": "markdown",
   "metadata": {},
   "source": [
    "Passage à 64 bits. Refaites la même chose cette fois-ci en format double précision (64bits)"
   ]
  },
  {
   "cell_type": "code",
   "execution_count": 9,
   "metadata": {},
   "outputs": [
    {
     "name": "stdout",
     "output_type": "stream",
     "text": [
      "0000000000000000000000000000000000000000000000000000000000101010\n",
      "1111111111111111111111111111111111111111111111111111111111010110\n",
      "1111111111111111111111111111111111111111111111111111111111010111\n",
      "0000000000000000000000000000000000000000000000000000000000101001\n",
      "min:   -9223372036854775808 max:   9223372036854775807\n"
     ]
    }
   ],
   "source": [
    "largeur=64\n",
    "print(\"{0:{fill}64b}\".format(a%(2**largeur), fill='0'))\n",
    "b=-a\n",
    "print(\"{0:{fill}64b}\".format(b%(2**largeur), fill='0'))\n",
    "c=b+1\n",
    "print(\"{0:{fill}64b}\".format(c%(2**largeur), fill='0'))\n",
    "d=-c\n",
    "print(\"{0:{fill}64b}\".format(d%(2**largeur), fill='0'))\n",
    "min=-2**(largeur-1)\n",
    "max=2**(largeur-1)-1\n",
    "print(\"min:  \",min,\"max:  \",max)"
   ]
  },
  {
   "cell_type": "markdown",
   "metadata": {},
   "source": [
    "Comment inverser la conversion? Vous devez partir d'une chaine repésentant un nombre codé en **C2** sur par exemple 8 bits: \"11010111\" ou encore  \"00101010\" \n",
    "\n",
    "Comment savoir si c'est un positif ou un négatif? \n",
    "\n",
    "Complétez ce code afin d'obtenir cet affichage à partir des mêmes chaînes en entrée.\n",
    "```Python\n",
    "print(int(\"11010111\",2))\n",
    "print(int(\"00101010\",2))\n",
    "....\n",
    "```\n",
    "\n",
    "Affichage: \n",
    "```\n",
    "215\n",
    "42\n",
    "-41\n",
    "42\n",
    "```"
   ]
  },
  {
   "cell_type": "code",
   "execution_count": 17,
   "metadata": {},
   "outputs": [
    {
     "name": "stdout",
     "output_type": "stream",
     "text": [
      "215\n",
      "42\n",
      "-41\n",
      "42\n"
     ]
    }
   ],
   "source": [
    "\n",
    "print(int(\"11010111\",2))\n",
    "print(int(\"00101010\",2))\n",
    "\n",
    "str=\"11010111\"\n",
    "print(int(str,2)-(256 if str[0]==\"1\" else 0))\n",
    "str=\"00101010\"\n",
    "print(int(str,2)-(256 if str[0]==\"1\" else 0))"
   ]
  },
  {
   "cell_type": "markdown",
   "metadata": {},
   "source": [
    "Passage à 64 bits:\n",
    "Complétez ce code afin d'obtenir cet affichage à partir des mêmes chaînes en entrée.\n",
    "```Python\n",
    "largeur=64\n",
    "\n",
    "str1=\"0000000000000000000000000000000000000000000000000000000000101010\"\n",
    "str2=\"1111111111111111111111111111111111111111111111111111111111010110\"\n",
    "\n",
    "print(int(str1,2))\n",
    "print(int(str2,2))\n",
    "....\n",
    "```\n",
    "\n",
    "Affichage: \n",
    "```\n",
    "215\n",
    "42\n",
    "-41\n",
    "42\n",
    "```"
   ]
  },
  {
   "cell_type": "code",
   "execution_count": 2,
   "metadata": {
    "scrolled": false
   },
   "outputs": [
    {
     "name": "stdout",
     "output_type": "stream",
     "text": [
      "42\n",
      "18446744073709551574\n",
      "42\n",
      "-42\n"
     ]
    }
   ],
   "source": [
    "largeur=64\n",
    "\n",
    "str1=\"0000000000000000000000000000000000000000000000000000000000101010\"\n",
    "str2=\"1111111111111111111111111111111111111111111111111111111111010110\"\n",
    "print(int(str1,2))\n",
    "print(int(str2,2))\n",
    "\n",
    "\n",
    "\n",
    "print(int(str1,2)-(2**largeur if str1[0]==\"1\" else 0))\n",
    "\n",
    "print(int(str2,2)-(2**largeur if str2[0]==\"1\" else 0))"
   ]
  },
  {
   "cell_type": "markdown",
   "metadata": {},
   "source": [
    "Il est possible d'utiliser les types du langage C grâce à la librarie `ctypes`."
   ]
  },
  {
   "cell_type": "code",
   "execution_count": 42,
   "metadata": {},
   "outputs": [
    {
     "name": "stdout",
     "output_type": "stream",
     "text": [
      "c_int(42)\n"
     ]
    }
   ],
   "source": [
    "import ctypes\n",
    "\n",
    "x=ctypes.c_int(42)\n",
    "print(x)"
   ]
  },
  {
   "cell_type": "markdown",
   "metadata": {},
   "source": [
    "Il est possible de regarder la structure interne de l'entier en **C2** . Expliquez les sorties ci-après.\n",
    "\n",
    "Nota:\n",
    "\n",
    "Pour accéder à la représentation en mémoire d'un entier, on le met sous la forme d'une séquence de bytes. La fonction \"pack\" du module struct (https://docs.python.org/3/library/struct.html) permet d'effectuer cette transformation, on note en particulier l'usage de \"!\" pour fixer une représentation gros-boutiste. La fonction unpack fait la transformation inverse.\n",
    "\n",
    "La chaîne de caractères produite est préfixée par \"b\" et est la suite des codes ascii (ou de leur interprétation si elle est affichable) représentant les codes hexadécimaux des octets.\n",
    "\n",
    "<img src=\"fig/1280px-USASCII_code_chart.png\" alt=\"1280px-USASCII_code_chart.png\"\n",
    "\ttitle=\"1280px-USASCII_code_chart.png\" width=\"400\"  />"
   ]
  },
  {
   "cell_type": "code",
   "execution_count": 29,
   "metadata": {},
   "outputs": [
    {
     "name": "stdout",
     "output_type": "stream",
     "text": [
      "b'\\x00\\x00\\x00*'\n",
      "b'0000002a'\n",
      "b'\\xff\\xff\\xff\\xd6'\n",
      "b'ffffffd6'\n"
     ]
    }
   ],
   "source": [
    "import struct \n",
    "import binascii\n",
    "\n",
    "out = struct.pack('!i', 42)\n",
    "print(out)\n",
    "print(binascii.hexlify(out))\n",
    "out = struct.pack('!i', -42)\n",
    "print(out)\n",
    "print(binascii.hexlify(out))"
   ]
  },
  {
   "cell_type": "markdown",
   "metadata": {},
   "source": [
    "Mais il est possible d'interpréter différement une même séquence de bits, soit sous hypothèse que c'est un entier, soit sous hypothèse que c'est un entier signé. Pour plus d'informations voir: https://docs.python.org/2/library/struct.html  et : https://bip.weizmann.ac.il/course/python/PyMOTW/PyMOTW/docs/struct/index.html"
   ]
  },
  {
   "cell_type": "code",
   "execution_count": 47,
   "metadata": {},
   "outputs": [
    {
     "name": "stdout",
     "output_type": "stream",
     "text": [
      "b'0000002a'\n",
      "42  donne:  42\n",
      "b'ffffffd6'\n",
      "-42  donne:  4294967254\n"
     ]
    }
   ],
   "source": [
    "z=42\n",
    "out = struct.pack('!I', z)\n",
    "print(binascii.hexlify(out))\n",
    "i=struct.unpack('!I',out)\n",
    "\n",
    "print(z,\" donne: \",i[0])\n",
    "\n",
    "z=-42\n",
    "out = struct.pack('!i', z)\n",
    "print(binascii.hexlify(out))\n",
    "i=struct.unpack('!I',out)\n",
    "print(z,\" donne: \",i[0])"
   ]
  },
  {
   "cell_type": "markdown",
   "metadata": {},
   "source": [
    "### Algos de conversions .... \n",
    "Vous trouverez ici des exemple d'exercices à demander aux élèves. Ce sont des exemples de base en algorithmique et ils portent sur le thème du codage."
   ]
  },
  {
   "cell_type": "markdown",
   "metadata": {},
   "source": [
    "#### Représenter en base $k$ un entier naturel donné en base $10$\n",
    "\n",
    "Pour écrire les entiers naturels en base $k$, on a besoin de $k$ chiffres. Quand on a\n",
    "$r$ objets, on les groupe par paquets de $k$, puis on groupe ces paquets en paquets de\n",
    "paquets, etc. Autrement dit, on fait une succession de divisions par $k$, jusqu'à obtenir un quotient égal à 0. \n",
    "\n",
    "\n",
    "Plus formellement, si l'on note $a_i,a_{i-1},...,a_1,a_0$ l'écriture de $n$ en base $k$, elle est obtenue\n",
    "pour l'algorithme suivant:\n",
    "\n",
    "entrées: $n,k$\n",
    "\n",
    "$i\\leftarrow 0$\n",
    "\n",
    "tant que $n \\neq 0$ faire\n",
    "\n",
    "+ $a_i \\leftarrow$ reste de la division euclidienne de $n$ par $k$\n",
    "+ $n \\leftarrow$ quotient de la division euclidienne de $n$ par $k$\n",
    "+ $i\\leftarrow i+1$\n",
    "  \n",
    "résultat: $a_i,a_{i-1},...,a_1,a_0$\n",
    "\n"
   ]
  },
  {
   "cell_type": "code",
   "execution_count": 60,
   "metadata": {},
   "outputs": [
    {
     "name": "stdout",
     "output_type": "stream",
     "text": [
      "01010\n"
     ]
    }
   ],
   "source": [
    "def inttostring(n,b,digits=\"0123456789ABCDEF\"):\n",
    "    \"\"\"Retourne la chaîne de caractères représentant n en base b, en utilisant les caractères de digits.\"\"\"\n",
    "    s=\"\"\n",
    "    while n != 0:\n",
    "        s = digits[n%b] + s\n",
    "        n=n//b\n",
    "    s=digits[n] + s\n",
    "    return s\n",
    "\n",
    "print(inttostring(10,2))"
   ]
  },
  {
   "cell_type": "markdown",
   "metadata": {},
   "source": [
    "Pour trouver la représentation en base dix d'un entier naturel donné en base $k$, on\n",
    "utilise le fait qu'en base $k$, le chiffre le plus à droite représente les unités, le précédent\n",
    "les paquets de $k$, le précédent les paquets de $k \\times k=k^2$, le précédent les paquets de\n",
    "$k \\times  k \\times  k = k^3$, etc.\n",
    "On retrouve les opérations réciproques de celles effectuées dans l'algorithme de\n",
    "conversion en base $k$. \n",
    "\n",
    "Si $a_i,a_{i-1},...,a_1,a_0$ est l'écriture de $n$ en base $k$, alors:\n",
    "\n",
    "$n=a_0+a_{1}k+a_2k^2+...+a_ik^i$ \n",
    "\n",
    "Ce calcul suppose  $(i+1) + i + … + 1 = (i+1)(i+2)/2 $ produits: $O(n^2)$.\n",
    "\n",
    "\n",
    "La fonction \"int\" ne permet pas de dépasser la base 36. Écrire une fonction prenant en paramètres une chaîne de caractères s et une base k inférieure à 64 et retournant l'entier dont l'écriture en base k est s.\n",
    "\n",
    "Codez cet algo de deux façons: dans un cas le parcours est effectué dans l'ordre de la chaîne et dans l'autre le parcours est effectué dans l'ordre inverse. \n",
    "\n",
    "Aide: \n",
    "Pour avoir le rang du caractère c dans digits vous pouvez utiliser:\n",
    "```Python\n",
    "digits.index(c)\n",
    "```"
   ]
  },
  {
   "cell_type": "code",
   "execution_count": 65,
   "metadata": {},
   "outputs": [
    {
     "name": "stdout",
     "output_type": "stream",
     "text": [
      "A\n",
      "4\n",
      "74\n"
     ]
    }
   ],
   "source": [
    "def stringtoint(s,k,digits=\"0123456789ABCDEF\"):\n",
    "    \"\"\"Retourne l'entier représenté par la chaîne de caractères s en base k.\"\"\"\n",
    "    n=0\n",
    "    exp=0\n",
    "    for c in s[::-1]:\n",
    "        if digits.index(c)<k:\n",
    "            n += (k**exp)*digits.index(c)\n",
    "            exp+=1\n",
    "        else:\n",
    "            raise Exception(\"Erreur lors de la lecture de la châine représentant le nombre\")\n",
    "                 \n",
    "                \n",
    "    return n\n",
    "\n",
    "print(stringtoint('4A', 16,digits=\"0123456789ABCDEF\"))"
   ]
  },
  {
   "cell_type": "code",
   "execution_count": 69,
   "metadata": {},
   "outputs": [
    {
     "name": "stdout",
     "output_type": "stream",
     "text": [
      "74\n"
     ]
    }
   ],
   "source": [
    "def stringtoint(s,k,digits=\"0123456789ABCDEF\"):\n",
    "    \"\"\"Retourne l'entier représenté par la chaîne de caractères s en base k.\"\"\"\n",
    "    n=0\n",
    "    exp=1\n",
    "    taille=len(s)\n",
    "    for c in s:\n",
    "        if digits.index(c)<k:\n",
    "            n += (k**(taille-exp))*digits.index(c)\n",
    "            exp+=1\n",
    "        else:\n",
    "            raise Exception(\"Erreur lors de la lecture de la châine représentant le nombre\")\n",
    "                 \n",
    "                \n",
    "    return n\n",
    "\n",
    "print(stringtoint('4A', 16,digits=\"0123456789ABCDEF\"))"
   ]
  },
  {
   "cell_type": "markdown",
   "metadata": {},
   "source": [
    "\n",
    " \n",
    " Si $a_i,a_{i-1},...,a_1,a_0$ est l'écriture de $n$ en base $k$, alors\n",
    "on peut également suivre la méthode de Horner (vous l'avez par exemple fait étudier à vos élèves en cours de mathématiques)\n",
    "pour faire ce calcul plus efficacement. Ce calcul suppose  $i $ produits: $O(n)$. Cela permet aussi plus naturellement de faire\n",
    "le calcul en lisant les chiffres de gauche à droite.\n",
    "\n",
    "$n=((( ... (a_ik+a_{i-1})k+...)k+a_2)k+a_{1})k+a_0$"
   ]
  },
  {
   "cell_type": "code",
   "execution_count": 75,
   "metadata": {},
   "outputs": [
    {
     "name": "stdout",
     "output_type": "stream",
     "text": [
      "376\n"
     ]
    }
   ],
   "source": [
    "def stringtoint(s,k,digits=\"0123456789ABCDEFGHIJKLMNOPQRSTUVWXYZ\"):\n",
    "    \"\"\"Retourne l'entier représenté par la chaîne de caractères s en base k.\"\"\"\n",
    "    n=0\n",
    "    for c in s:\n",
    "        if digits.index(c)<k:\n",
    "            n = k*n + digits.index(c)\n",
    "        else:\n",
    "            raise Exception(\"Erreur lors de la lecture de la châine représentant le nombre\")\n",
    "                 \n",
    "                \n",
    "    return n\n",
    "\n",
    "print(stringtoint('AQ', 35,digits=\"0123456789ABCDEFGHIJKLMNOPQRSTUVWXYZ\"))\n",
    "    "
   ]
  },
  {
   "cell_type": "markdown",
   "metadata": {},
   "source": [
    "### Mais les entiers python sont sophistiqués...\n",
    "Sont-ils codés sur 32 bits comme les entiers signés en  Java ou en C++? Sont-ils codés sur 64 bits comme les `double` en Java ou en C++? Pour en avoir confirmation, essayez d'afficher le maximum +1 sur 32 bits, sur 64bits? "
   ]
  },
  {
   "cell_type": "code",
   "execution_count": 3,
   "metadata": {},
   "outputs": [
    {
     "name": "stdout",
     "output_type": "stream",
     "text": [
      "min:   -9223372036854775807 max:   9223372036854775806\n"
     ]
    }
   ],
   "source": [
    "min=-2**(largeur-1)+1\n",
    "max=2**(largeur-1)-1-1\n",
    "print(\"min:  \",min,\"max:  \",max)"
   ]
  },
  {
   "cell_type": "markdown",
   "metadata": {},
   "source": [
    "Peut-être sont-ils codés sur 128 bits? Essayez..."
   ]
  },
  {
   "cell_type": "code",
   "execution_count": 4,
   "metadata": {},
   "outputs": [
    {
     "name": "stdout",
     "output_type": "stream",
     "text": [
      "min:   -170141183460469231731687303715884105728 max:   170141183460469231731687303715884105727\n"
     ]
    }
   ],
   "source": [
    "largeur=128\n",
    "min=-2**(largeur-1)\n",
    "max=2**(largeur-1)-1\n",
    "print(\"min:  \",min,\"max:  \",max)"
   ]
  },
  {
   "cell_type": "markdown",
   "metadata": {},
   "source": [
    "Affichez les valeurs maximums en négatif comme en positif en faisant varier le nombre de bits utilisé de 2 à 4096. Où trouvez-vous la limite?\n",
    "\n",
    "Exemple d'affichage: \n",
    "```Python\n",
    "print(\"exposant:  \",largeur ,\"\\nmin:  \",min,\"\\nmax:  \",max)\n",
    "```"
   ]
  },
  {
   "cell_type": "code",
   "execution_count": 5,
   "metadata": {},
   "outputs": [
    {
     "name": "stdout",
     "output_type": "stream",
     "text": [
      "exposant:   2 \n",
      "min:   -2 \n",
      "max:   1\n",
      "exposant:   4 \n",
      "min:   -8 \n",
      "max:   7\n",
      "exposant:   8 \n",
      "min:   -128 \n",
      "max:   127\n",
      "exposant:   16 \n",
      "min:   -32768 \n",
      "max:   32767\n",
      "exposant:   32 \n",
      "min:   -2147483648 \n",
      "max:   2147483647\n",
      "exposant:   64 \n",
      "min:   -9223372036854775808 \n",
      "max:   9223372036854775807\n",
      "exposant:   128 \n",
      "min:   -170141183460469231731687303715884105728 \n",
      "max:   170141183460469231731687303715884105727\n",
      "exposant:   256 \n",
      "min:   -57896044618658097711785492504343953926634992332820282019728792003956564819968 \n",
      "max:   57896044618658097711785492504343953926634992332820282019728792003956564819967\n",
      "exposant:   512 \n",
      "min:   -6703903964971298549787012499102923063739682910296196688861780721860882015036773488400937149083451713845015929093243025426876941405973284973216824503042048 \n",
      "max:   6703903964971298549787012499102923063739682910296196688861780721860882015036773488400937149083451713845015929093243025426876941405973284973216824503042047\n",
      "exposant:   1024 \n",
      "min:   -89884656743115795386465259539451236680898848947115328636715040578866337902750481566354238661203768010560056939935696678829394884407208311246423715319737062188883946712432742638151109800623047059726541476042502884419075341171231440736956555270413618581675255342293149119973622969239858152417678164812112068608 \n",
      "max:   89884656743115795386465259539451236680898848947115328636715040578866337902750481566354238661203768010560056939935696678829394884407208311246423715319737062188883946712432742638151109800623047059726541476042502884419075341171231440736956555270413618581675255342293149119973622969239858152417678164812112068607\n",
      "exposant:   2048 \n",
      "min:   -16158503035655503650357438344334975980222051334857742016065172713762327569433945446598600705761456731844358980460949009747059779575245460547544076193224141560315438683650498045875098875194826053398028819192033784138396109321309878080919047169238085235290822926018152521443787945770532904303776199561965192760957166694834171210342487393282284747428088017663161029038902829665513096354230157075129296432088558362971801859230928678799175576150822952201848806616643615613562842355410104862578550863465661734839271290328348967522998634176499319107762583194718667771801067716614802322659239302476074096777926805529798115328 \n",
      "max:   16158503035655503650357438344334975980222051334857742016065172713762327569433945446598600705761456731844358980460949009747059779575245460547544076193224141560315438683650498045875098875194826053398028819192033784138396109321309878080919047169238085235290822926018152521443787945770532904303776199561965192760957166694834171210342487393282284747428088017663161029038902829665513096354230157075129296432088558362971801859230928678799175576150822952201848806616643615613562842355410104862578550863465661734839271290328348967522998634176499319107762583194718667771801067716614802322659239302476074096777926805529798115327\n",
      "exposant:   4096 \n",
      "min:   -522194440706576253345876355358312191289982124523691890192116741641976953985778728424413405967498779170445053357219631418993786719092896803631618043925682638972978488271854999170180795067191859157214035005927973113188159419698856372836167342172293308748403954352901852035642024370059304557233988891799014503343469488440893892973452815095130470299789726716411734651513348221529512507986199933857107770846917779942645743159118957217248367043905936319748237550094520674504208530837546834166925275516486044134775384991808184705966507606898412918594045916828375610659246423184062775112999150206172392431297837246097308511903252956622805412865917690043804311051417135098849101156584508839003337597742539960818209685142687562392007453579567729991395256699805775897135553415567045292136442139895777424891477161767258532611634530697452993846501061481697843891439474220308003706472837459911525285821188577408160690315522951458068463354171428220365223949985950890732881736611925133626529949897998045399734600887312408859224933727829625089164535236559716582775403784110923285873186648442456409760158728501220463308455437074192539205964902261490928669488824051563042951500651206733594863336608245755565801460390869016718045121902354170201577095168 \n",
      "max:   522194440706576253345876355358312191289982124523691890192116741641976953985778728424413405967498779170445053357219631418993786719092896803631618043925682638972978488271854999170180795067191859157214035005927973113188159419698856372836167342172293308748403954352901852035642024370059304557233988891799014503343469488440893892973452815095130470299789726716411734651513348221529512507986199933857107770846917779942645743159118957217248367043905936319748237550094520674504208530837546834166925275516486044134775384991808184705966507606898412918594045916828375610659246423184062775112999150206172392431297837246097308511903252956622805412865917690043804311051417135098849101156584508839003337597742539960818209685142687562392007453579567729991395256699805775897135553415567045292136442139895777424891477161767258532611634530697452993846501061481697843891439474220308003706472837459911525285821188577408160690315522951458068463354171428220365223949985950890732881736611925133626529949897998045399734600887312408859224933727829625089164535236559716582775403784110923285873186648442456409760158728501220463308455437074192539205964902261490928669488824051563042951500651206733594863336608245755565801460390869016718045121902354170201577095167\n"
     ]
    }
   ],
   "source": [
    "for i in range(1,13):\n",
    "    largeur=2**i\n",
    "    min=-2**(largeur-1)\n",
    "    max=2**(largeur-1)-1\n",
    "    print(\"exposant:  \",largeur ,\"\\nmin:  \",min,\"\\nmax:  \",max)"
   ]
  },
  {
   "cell_type": "markdown",
   "metadata": {},
   "source": [
    "La librairie ```sys``` permet de savoir la taille en octets de la repésentation de l'entier\n",
    "```Python\n",
    "import sys\n",
    "largeur=40\n",
    "a=2**(largeur-1)-1\n",
    "print(sys.getsizeof(a))\n",
    "```"
   ]
  },
  {
   "cell_type": "code",
   "execution_count": 6,
   "metadata": {},
   "outputs": [
    {
     "name": "stdout",
     "output_type": "stream",
     "text": [
      "32\n"
     ]
    }
   ],
   "source": [
    "import sys\n",
    "largeur=40\n",
    "a=2**(largeur-1)-1\n",
    "print(sys.getsizeof(a))"
   ]
  },
  {
   "cell_type": "markdown",
   "metadata": {},
   "source": [
    "Quel est le minimum? Incrémentez dans une boucle jusqu'à: 2**2048?"
   ]
  },
  {
   "cell_type": "code",
   "execution_count": 50,
   "metadata": {},
   "outputs": [
    {
     "name": "stdout",
     "output_type": "stream",
     "text": [
      "exposant:   2 \n",
      "min:   28 \n",
      "max:   28\n",
      "exposant:   4 \n",
      "min:   28 \n",
      "max:   28\n",
      "exposant:   8 \n",
      "min:   28 \n",
      "max:   28\n",
      "exposant:   16 \n",
      "min:   28 \n",
      "max:   28\n",
      "exposant:   32 \n",
      "min:   32 \n",
      "max:   32\n",
      "exposant:   64 \n",
      "min:   36 \n",
      "max:   36\n",
      "exposant:   128 \n",
      "min:   44 \n",
      "max:   44\n",
      "exposant:   256 \n",
      "min:   60 \n",
      "max:   60\n",
      "exposant:   512 \n",
      "min:   96 \n",
      "max:   96\n",
      "exposant:   1024 \n",
      "min:   164 \n",
      "max:   164\n",
      "exposant:   2048 \n",
      "min:   300 \n",
      "max:   300\n",
      "exposant:   4096 \n",
      "min:   572 \n",
      "max:   572\n"
     ]
    }
   ],
   "source": [
    "import sys\n",
    "for i in range(1,13):\n",
    "    largeur=2**i\n",
    "    min=-2**(largeur-1)\n",
    "    max=2**(largeur-1)-1\n",
    "    print(\"exposant:  \",largeur ,\"\\nmin:  \",sys.getsizeof(min),\"\\nmax:  \",sys.getsizeof(max))"
   ]
  },
  {
   "cell_type": "markdown",
   "metadata": {},
   "source": [
    "La taille semble évoluer en fonction des besoins...\n",
    "Pour mieux comprendre on peut utiliser la classe: `PyLongObject` de `ctype`\n",
    "\n",
    "La librairie `ctype` permet d'accéder aux structures de données écrites en C qui sont utilisées par l'interpréteur python c'est-à-dire le logiciel qui exécute le code python. On dit qu'il l'interprète.  Par conséquent il est possible grâce à cette librairie d'explorer comme sont repésentés les entiers en Python.\n",
    "\n",
    "Il est ainsi possible d'afficher par exemple une partie des données contenues dans la structure de données `PyLongObject`, laquelle permet de représenter les entiers en Python. \n",
    "\n",
    "```python\n",
    "import ctypes\n",
    "class PyLongObject(ctypes.Structure):\n",
    "        _fields_ = [(\"ob_refcnt\", ctypes.c_long),\n",
    "                (\"ob_type\", ctypes.c_void_p),\n",
    "                (\"ob_size\", ctypes.c_ulong),\n",
    "                (\"ob_digit\", ctypes.c_int *1)]\n",
    "\n",
    "bignum = 2**40-1\n",
    "the_int=PyLongObject.from_address(id(bignum)) # recupère l'objet via son identifiant \n",
    "size=the_int.ob_size # recupère la sous-partie ob_size (qui est un long entier non signé et donc codé sur 64 bit)\n",
    "print( size)\n",
    "    ```\n"
   ]
  },
  {
   "cell_type": "code",
   "execution_count": 49,
   "metadata": {},
   "outputs": [
    {
     "name": "stdout",
     "output_type": "stream",
     "text": [
      "2\n"
     ]
    }
   ],
   "source": [
    "import ctypes\n",
    "class PyLongObject(ctypes.Structure):\n",
    "        _fields_ = [(\"ob_refcnt\", ctypes.c_long),\n",
    "                (\"ob_type\", ctypes.c_void_p),\n",
    "                (\"ob_size\", ctypes.c_ulong),\n",
    "                (\"ob_digit\", ctypes.c_int *1)]\n",
    "\n",
    "bignum = 2**40-1\n",
    "the_int=PyLongObject.from_address(id(bignum)) # recupère l'objet via son identifiant \n",
    "size=the_int.ob_size # recupère la sous-partie ob_size (qui est un long entier non signé et donc codé sur 64 bit)\n",
    "print( size)"
   ]
  },
  {
   "cell_type": "markdown",
   "metadata": {},
   "source": [
    "Il semble donc que les entiers stockent une taille mais laquelle? A quoi correspond-elle?\n",
    "Pour le savoir allons explorer la dernière partie de la structure de données `PyLongObject` c'est-à-dire `ob_digit`\n",
    "```Python\n",
    "import ctypes\n",
    "class PyLongObject(ctypes.Structure):\n",
    "        _fields_ = [(\"ob_refcnt\", ctypes.c_long),\n",
    "                (\"ob_type\", ctypes.c_void_p),\n",
    "                (\"ob_size\", ctypes.c_ulong),\n",
    "                (\"ob_digit\", ctypes.c_int *1)]\n",
    "        \n",
    "bignum = 2**40-1\n",
    "the_int=PyLongObject.from_address(id(bignum))\n",
    "size=the_int.ob_size\n",
    "print( size)\n",
    "\n",
    "x=the_int.ob_digit  # récupère ob_digit qui est l'adresse d'un tableau d'entiers C  (c_int *)\n",
    "px= ctypes.cast(ctypes.pointer(x),ctypes.POINTER(ctypes.c_int))# transforme le tableau d'entiers C en tableau Python\n",
    "print(px[0]) #Affiche la première case du tableau python.\n",
    "```\n"
   ]
  },
  {
   "cell_type": "code",
   "execution_count": 7,
   "metadata": {},
   "outputs": [
    {
     "name": "stdout",
     "output_type": "stream",
     "text": [
      "2\n",
      "1073741823\n"
     ]
    }
   ],
   "source": [
    "import ctypes\n",
    "class PyLongObject(ctypes.Structure):\n",
    "        _fields_ = [(\"ob_refcnt\", ctypes.c_long),\n",
    "                (\"ob_type\", ctypes.c_void_p),\n",
    "                (\"ob_size\", ctypes.c_ulong),\n",
    "                (\"ob_digit\", ctypes.c_int *1)]\n",
    "        \n",
    "bignum = 2**40-1\n",
    "the_int=PyLongObject.from_address(id(bignum))\n",
    "size=the_int.ob_size\n",
    "print( size)\n",
    "\n",
    "x=the_int.ob_digit  # récupère ob_digit qui est l'adresse d'un tableau d'entiers C  (c_int *)\n",
    "px= ctypes.cast(ctypes.pointer(x),ctypes.POINTER(ctypes.c_int))#transforme le tableau d'entiers C en tableau Python\n",
    "print(px[0]) #Affiche la première case du tableau python."
   ]
  },
  {
   "cell_type": "markdown",
   "metadata": {},
   "source": [
    "Explorez un peu plus loin ce tableau... Par exemple de 2 cases. \n",
    "\n",
    "NB: il serait possible d'explorer bien plus loin car le code tel qu'il est conçu ici ne tient pas compte de la taille réelle du tableau. Par conséquent les valeurs au delà de 2 cases ne sont pas facilement interprétables."
   ]
  },
  {
   "cell_type": "code",
   "execution_count": 65,
   "metadata": {},
   "outputs": [
    {
     "name": "stdout",
     "output_type": "stream",
     "text": [
      "2\n",
      "1073741823\n",
      "1023\n"
     ]
    }
   ],
   "source": [
    "import ctypes\n",
    "class PyLongObject(ctypes.Structure):\n",
    "        _fields_ = [(\"ob_refcnt\", ctypes.c_long),\n",
    "                (\"ob_type\", ctypes.c_void_p),\n",
    "                (\"ob_size\", ctypes.c_ulong),\n",
    "                (\"ob_digit\", ctypes.c_int *1)]\n",
    "        \n",
    "bignum = 2**40-1\n",
    "the_int=PyLongObject.from_address(id(bignum))\n",
    "size=the_int.ob_size\n",
    "print( size)\n",
    "\n",
    "x=the_int.ob_digit  # récupère ob_digit qui est l'adresse d'un tableau d'entiers C  (c_int *)\n",
    "px= ctypes.cast(ctypes.pointer(x),ctypes.POINTER(ctypes.c_int))# transforme  le tableau d'entiers C en tableau Python\n",
    "print(px[0]) #Affiche la première case du tableau python.\n",
    "print(px[1]) \n",
    " "
   ]
  },
  {
   "cell_type": "markdown",
   "metadata": {},
   "source": [
    "Afficher sur 64 bits la représentation en binaire C2 de  `2**40-1`puis de `1073741823`, puis de `1023`. Que remarque-t-on? Quelles hypothèses peut-on faire sur la représentation des entiers en python? "
   ]
  },
  {
   "cell_type": "code",
   "execution_count": 67,
   "metadata": {},
   "outputs": [
    {
     "name": "stdout",
     "output_type": "stream",
     "text": [
      "0000000000000000000000001111111111111111111111111111111111111111\n",
      "0000000000000000000000000000000000111111111111111111111111111111\n",
      "0000000000000000000000000000000000000000000000000000001111111111\n"
     ]
    }
   ],
   "source": [
    "print(\"{0:{fill}64b}\".format((2**40-1)%(2**64), fill='0'))\n",
    "\n",
    "print(\"{0:{fill}64b}\".format(1073741823%(2**64), fill='0'))\n",
    "print(\"{0:{fill}64b}\".format(1023%(2**64), fill='0'))\n"
   ]
  },
  {
   "cell_type": "markdown",
   "metadata": {},
   "source": [
    "Affichez les `size` cases du tableau ob_digit. "
   ]
  },
  {
   "cell_type": "code",
   "execution_count": 68,
   "metadata": {},
   "outputs": [
    {
     "name": "stdout",
     "output_type": "stream",
     "text": [
      "2\n",
      "1073741823\n",
      "1023\n"
     ]
    }
   ],
   "source": [
    "import ctypes\n",
    "class PyLongObject(ctypes.Structure):\n",
    "        _fields_ = [(\"ob_refcnt\", ctypes.c_long),\n",
    "                (\"ob_type\", ctypes.c_void_p),\n",
    "                (\"ob_size\", ctypes.c_ulong),\n",
    "                (\"ob_digit\", ctypes.c_int *1)]\n",
    "        \n",
    "bignum = 2**40-1\n",
    "the_int=PyLongObject.from_address(id(bignum))\n",
    "size=the_int.ob_size\n",
    "print( size)\n",
    "\n",
    "x=the_int.ob_digit\n",
    "px= ctypes.cast(ctypes.pointer(x),ctypes.POINTER(ctypes.c_int))\n",
    "for d in range(0,size):\n",
    "    print(px[d])"
   ]
  },
  {
   "cell_type": "markdown",
   "metadata": {},
   "source": [
    "Recommencez dans une boucle afin d'analyser comment les valeurs maximum évoluent dans les exemples plus hauts qui parcourent les exposants de 2 à 2048:\n",
    "```Python\n",
    "for i in range(1,13):\n",
    "    largeur=2**i\n",
    "    max=2**(largeur-1)-1\n",
    "    ........\n",
    " ```   "
   ]
  },
  {
   "cell_type": "code",
   "execution_count": 77,
   "metadata": {},
   "outputs": [
    {
     "name": "stdout",
     "output_type": "stream",
     "text": [
      "exposant:   2 \n",
      " max:   1 \n",
      " size max:   28\n",
      "1\n",
      "1\n",
      "exposant:   4 \n",
      " max:   7 \n",
      " size max:   28\n",
      "1\n",
      "7\n",
      "exposant:   8 \n",
      " max:   127 \n",
      " size max:   28\n",
      "1\n",
      "127\n",
      "exposant:   16 \n",
      " max:   32767 \n",
      " size max:   28\n",
      "1\n",
      "32767\n",
      "exposant:   32 \n",
      " max:   2147483647 \n",
      " size max:   32\n",
      "2\n",
      "1073741823\n",
      "1\n",
      "exposant:   64 \n",
      " max:   9223372036854775807 \n",
      " size max:   36\n",
      "3\n",
      "1073741823\n",
      "1073741823\n",
      "7\n",
      "exposant:   128 \n",
      " max:   170141183460469231731687303715884105727 \n",
      " size max:   44\n",
      "5\n",
      "1073741823\n",
      "1073741823\n",
      "1073741823\n",
      "1073741823\n",
      "127\n",
      "exposant:   256 \n",
      " max:   57896044618658097711785492504343953926634992332820282019728792003956564819967 \n",
      " size max:   60\n",
      "9\n",
      "1073741823\n",
      "1073741823\n",
      "1073741823\n",
      "1073741823\n",
      "1073741823\n",
      "1073741823\n",
      "1073741823\n",
      "1073741823\n",
      "32767\n",
      "exposant:   512 \n",
      " max:   6703903964971298549787012499102923063739682910296196688861780721860882015036773488400937149083451713845015929093243025426876941405973284973216824503042047 \n",
      " size max:   96\n",
      "18\n",
      "1073741823\n",
      "1073741823\n",
      "1073741823\n",
      "1073741823\n",
      "1073741823\n",
      "1073741823\n",
      "1073741823\n",
      "1073741823\n",
      "1073741823\n",
      "1073741823\n",
      "1073741823\n",
      "1073741823\n",
      "1073741823\n",
      "1073741823\n",
      "1073741823\n",
      "1073741823\n",
      "1073741823\n",
      "1\n",
      "exposant:   1024 \n",
      " max:   89884656743115795386465259539451236680898848947115328636715040578866337902750481566354238661203768010560056939935696678829394884407208311246423715319737062188883946712432742638151109800623047059726541476042502884419075341171231440736956555270413618581675255342293149119973622969239858152417678164812112068607 \n",
      " size max:   164\n",
      "35\n",
      "1073741823\n",
      "1073741823\n",
      "1073741823\n",
      "1073741823\n",
      "1073741823\n",
      "1073741823\n",
      "1073741823\n",
      "1073741823\n",
      "1073741823\n",
      "1073741823\n",
      "1073741823\n",
      "1073741823\n",
      "1073741823\n",
      "1073741823\n",
      "1073741823\n",
      "1073741823\n",
      "1073741823\n",
      "1073741823\n",
      "1073741823\n",
      "1073741823\n",
      "1073741823\n",
      "1073741823\n",
      "1073741823\n",
      "1073741823\n",
      "1073741823\n",
      "1073741823\n",
      "1073741823\n",
      "1073741823\n",
      "1073741823\n",
      "1073741823\n",
      "1073741823\n",
      "1073741823\n",
      "1073741823\n",
      "1073741823\n",
      "7\n",
      "exposant:   2048 \n",
      " max:   16158503035655503650357438344334975980222051334857742016065172713762327569433945446598600705761456731844358980460949009747059779575245460547544076193224141560315438683650498045875098875194826053398028819192033784138396109321309878080919047169238085235290822926018152521443787945770532904303776199561965192760957166694834171210342487393282284747428088017663161029038902829665513096354230157075129296432088558362971801859230928678799175576150822952201848806616643615613562842355410104862578550863465661734839271290328348967522998634176499319107762583194718667771801067716614802322659239302476074096777926805529798115327 \n",
      " size max:   300\n",
      "69\n",
      "1073741823\n",
      "1073741823\n",
      "1073741823\n",
      "1073741823\n",
      "1073741823\n",
      "1073741823\n",
      "1073741823\n",
      "1073741823\n",
      "1073741823\n",
      "1073741823\n",
      "1073741823\n",
      "1073741823\n",
      "1073741823\n",
      "1073741823\n",
      "1073741823\n",
      "1073741823\n",
      "1073741823\n",
      "1073741823\n",
      "1073741823\n",
      "1073741823\n",
      "1073741823\n",
      "1073741823\n",
      "1073741823\n",
      "1073741823\n",
      "1073741823\n",
      "1073741823\n",
      "1073741823\n",
      "1073741823\n",
      "1073741823\n",
      "1073741823\n",
      "1073741823\n",
      "1073741823\n",
      "1073741823\n",
      "1073741823\n",
      "1073741823\n",
      "1073741823\n",
      "1073741823\n",
      "1073741823\n",
      "1073741823\n",
      "1073741823\n",
      "1073741823\n",
      "1073741823\n",
      "1073741823\n",
      "1073741823\n",
      "1073741823\n",
      "1073741823\n",
      "1073741823\n",
      "1073741823\n",
      "1073741823\n",
      "1073741823\n",
      "1073741823\n",
      "1073741823\n",
      "1073741823\n",
      "1073741823\n",
      "1073741823\n",
      "1073741823\n",
      "1073741823\n",
      "1073741823\n",
      "1073741823\n",
      "1073741823\n",
      "1073741823\n",
      "1073741823\n",
      "1073741823\n",
      "1073741823\n",
      "1073741823\n",
      "1073741823\n",
      "1073741823\n",
      "1073741823\n",
      "127\n",
      "exposant:   4096 \n",
      " max:   522194440706576253345876355358312191289982124523691890192116741641976953985778728424413405967498779170445053357219631418993786719092896803631618043925682638972978488271854999170180795067191859157214035005927973113188159419698856372836167342172293308748403954352901852035642024370059304557233988891799014503343469488440893892973452815095130470299789726716411734651513348221529512507986199933857107770846917779942645743159118957217248367043905936319748237550094520674504208530837546834166925275516486044134775384991808184705966507606898412918594045916828375610659246423184062775112999150206172392431297837246097308511903252956622805412865917690043804311051417135098849101156584508839003337597742539960818209685142687562392007453579567729991395256699805775897135553415567045292136442139895777424891477161767258532611634530697452993846501061481697843891439474220308003706472837459911525285821188577408160690315522951458068463354171428220365223949985950890732881736611925133626529949897998045399734600887312408859224933727829625089164535236559716582775403784110923285873186648442456409760158728501220463308455437074192539205964902261490928669488824051563042951500651206733594863336608245755565801460390869016718045121902354170201577095167 \n",
      " size max:   572\n",
      "137\n",
      "1073741823\n",
      "1073741823\n",
      "1073741823\n",
      "1073741823\n",
      "1073741823\n",
      "1073741823\n",
      "1073741823\n",
      "1073741823\n",
      "1073741823\n",
      "1073741823\n",
      "1073741823\n",
      "1073741823\n",
      "1073741823\n",
      "1073741823\n",
      "1073741823\n",
      "1073741823\n",
      "1073741823\n",
      "1073741823\n",
      "1073741823\n",
      "1073741823\n",
      "1073741823\n",
      "1073741823\n",
      "1073741823\n",
      "1073741823\n",
      "1073741823\n",
      "1073741823\n",
      "1073741823\n",
      "1073741823\n",
      "1073741823\n",
      "1073741823\n",
      "1073741823\n",
      "1073741823\n",
      "1073741823\n",
      "1073741823\n",
      "1073741823\n",
      "1073741823\n",
      "1073741823\n",
      "1073741823\n",
      "1073741823\n",
      "1073741823\n",
      "1073741823\n",
      "1073741823\n",
      "1073741823\n",
      "1073741823\n",
      "1073741823\n",
      "1073741823\n",
      "1073741823\n",
      "1073741823\n",
      "1073741823\n",
      "1073741823\n",
      "1073741823\n",
      "1073741823\n",
      "1073741823\n",
      "1073741823\n",
      "1073741823\n",
      "1073741823\n",
      "1073741823\n",
      "1073741823\n",
      "1073741823\n",
      "1073741823\n",
      "1073741823\n",
      "1073741823\n",
      "1073741823\n",
      "1073741823\n",
      "1073741823\n",
      "1073741823\n",
      "1073741823\n",
      "1073741823\n",
      "1073741823\n",
      "1073741823\n",
      "1073741823\n",
      "1073741823\n",
      "1073741823\n",
      "1073741823\n",
      "1073741823\n",
      "1073741823\n",
      "1073741823\n",
      "1073741823\n",
      "1073741823\n",
      "1073741823\n",
      "1073741823\n",
      "1073741823\n",
      "1073741823\n",
      "1073741823\n",
      "1073741823\n",
      "1073741823\n",
      "1073741823\n",
      "1073741823\n",
      "1073741823\n",
      "1073741823\n",
      "1073741823\n",
      "1073741823\n",
      "1073741823\n",
      "1073741823\n",
      "1073741823\n",
      "1073741823\n",
      "1073741823\n",
      "1073741823\n",
      "1073741823\n",
      "1073741823\n",
      "1073741823\n",
      "1073741823\n",
      "1073741823\n",
      "1073741823\n",
      "1073741823\n",
      "1073741823\n",
      "1073741823\n",
      "1073741823\n",
      "1073741823\n",
      "1073741823\n",
      "1073741823\n",
      "1073741823\n",
      "1073741823\n",
      "1073741823\n",
      "1073741823\n",
      "1073741823\n",
      "1073741823\n",
      "1073741823\n",
      "1073741823\n",
      "1073741823\n",
      "1073741823\n",
      "1073741823\n",
      "1073741823\n",
      "1073741823\n",
      "1073741823\n",
      "1073741823\n",
      "1073741823\n",
      "1073741823\n",
      "1073741823\n",
      "1073741823\n",
      "1073741823\n",
      "1073741823\n",
      "1073741823\n",
      "1073741823\n",
      "1073741823\n",
      "1073741823\n",
      "32767\n"
     ]
    }
   ],
   "source": [
    "import sys\n",
    "import ctypes\n",
    "\n",
    "for i in range(1,13):\n",
    "    largeur=2**i\n",
    "    max=2**(largeur-1)-1\n",
    "    print(\"exposant:  \",largeur ,\"\\n max:  \",max,\"\\n size max:  \",sys.getsizeof(max))\n",
    "    \n",
    "    \n",
    "    the_int=PyLongObject.from_address(id(max))\n",
    "    size=the_int.ob_size\n",
    "    print( size)\n",
    "\n",
    "    x=the_int.ob_digit\n",
    "    px= ctypes.cast(ctypes.pointer(x),ctypes.POINTER(ctypes.c_int))\n",
    "    for d in range(0,size):\n",
    "        print(px[d])"
   ]
  },
  {
   "cell_type": "markdown",
   "metadata": {},
   "source": [
    "Il semble que le format de sauvegarde des entiers décompose l'entier en morceaux. De quelle taille? vous pouvez répondre en utilisant le log à base 2 de python:\n",
    "```Python\n",
    "import math\n",
    "print(math.log(8,2))\n",
    "print(math.log(1073741823,2))\n",
    "```\n"
   ]
  },
  {
   "cell_type": "code",
   "execution_count": 54,
   "metadata": {},
   "outputs": [
    {
     "name": "stdout",
     "output_type": "stream",
     "text": [
      "3.0\n",
      "29.999999998656385\n"
     ]
    }
   ],
   "source": [
    "import math\n",
    "print(math.log(8,2))\n",
    "print(math.log(1073741823,2))\n"
   ]
  },
  {
   "cell_type": "markdown",
   "metadata": {},
   "source": [
    "A présent vous savez comment sont repésentés les nombre entiers en python et vous pouvez manipuler le tableau qui stoke les chiffres qui le compose. Exercice: recomposez le nombre à partir de ses morceaux:"
   ]
  },
  {
   "cell_type": "code",
   "execution_count": 79,
   "metadata": {
    "scrolled": true
   },
   "outputs": [
    {
     "name": "stdout",
     "output_type": "stream",
     "text": [
      "exposant:   2 \n",
      " max:   1 \n",
      " size max:   28\n",
      "1\n",
      "1\n",
      "recomposé:   1\n",
      "exposant:   4 \n",
      " max:   7 \n",
      " size max:   28\n",
      "1\n",
      "7\n",
      "recomposé:   7\n",
      "exposant:   8 \n",
      " max:   127 \n",
      " size max:   28\n",
      "1\n",
      "127\n",
      "recomposé:   127\n",
      "exposant:   16 \n",
      " max:   32767 \n",
      " size max:   28\n",
      "1\n",
      "32767\n",
      "recomposé:   32767\n",
      "exposant:   32 \n",
      " max:   2147483647 \n",
      " size max:   32\n",
      "2\n",
      "1073741823\n",
      "1\n",
      "recomposé:   2147483647\n",
      "exposant:   64 \n",
      " max:   9223372036854775807 \n",
      " size max:   36\n",
      "3\n",
      "1073741823\n",
      "1073741823\n",
      "7\n",
      "recomposé:   9223372036854775807\n",
      "exposant:   128 \n",
      " max:   170141183460469231731687303715884105727 \n",
      " size max:   44\n",
      "5\n",
      "1073741823\n",
      "1073741823\n",
      "1073741823\n",
      "1073741823\n",
      "127\n",
      "recomposé:   170141183460469231731687303715884105727\n",
      "exposant:   256 \n",
      " max:   57896044618658097711785492504343953926634992332820282019728792003956564819967 \n",
      " size max:   60\n",
      "9\n",
      "1073741823\n",
      "1073741823\n",
      "1073741823\n",
      "1073741823\n",
      "1073741823\n",
      "1073741823\n",
      "1073741823\n",
      "1073741823\n",
      "32767\n",
      "recomposé:   57896044618658097711785492504343953926634992332820282019728792003956564819967\n",
      "exposant:   512 \n",
      " max:   6703903964971298549787012499102923063739682910296196688861780721860882015036773488400937149083451713845015929093243025426876941405973284973216824503042047 \n",
      " size max:   96\n",
      "18\n",
      "1073741823\n",
      "1073741823\n",
      "1073741823\n",
      "1073741823\n",
      "1073741823\n",
      "1073741823\n",
      "1073741823\n",
      "1073741823\n",
      "1073741823\n",
      "1073741823\n",
      "1073741823\n",
      "1073741823\n",
      "1073741823\n",
      "1073741823\n",
      "1073741823\n",
      "1073741823\n",
      "1073741823\n",
      "1\n",
      "recomposé:   6703903964971298549787012499102923063739682910296196688861780721860882015036773488400937149083451713845015929093243025426876941405973284973216824503042047\n"
     ]
    }
   ],
   "source": [
    "import sys\n",
    "import ctypes\n",
    "\n",
    "for i in range(1,10):\n",
    "    largeur=2**i\n",
    "    max=2**(largeur-1)-1\n",
    "    print(\"exposant:  \",largeur ,\"\\n max:  \",max,\"\\n size max:  \",sys.getsizeof(max))\n",
    "    \n",
    "    size=PyLongObject.from_address(id(max)).ob_size\n",
    "    x=PyLongObject.from_address(id(max)).ob_digit\n",
    "    px= ctypes.cast(ctypes.pointer(x),ctypes.POINTER(ctypes.c_int))\n",
    "    \n",
    "    print(size)\n",
    "    acc=0\n",
    "    i=0\n",
    "    for d in range(0,size):\n",
    "        val=px[d]\n",
    "        print(val)\n",
    "        acc=acc+val*2**(30*(i))\n",
    "        i=i+1\n",
    "    print(\"recomposé:  \",acc)   \n",
    "    \n",
    "    "
   ]
  }
 ],
 "metadata": {
  "kernelspec": {
   "display_name": "Python 3",
   "language": "python",
   "name": "python3"
  },
  "language_info": {
   "codemirror_mode": {
    "name": "ipython",
    "version": 3
   },
   "file_extension": ".py",
   "mimetype": "text/x-python",
   "name": "python",
   "nbconvert_exporter": "python",
   "pygments_lexer": "ipython3",
   "version": "3.7.0"
  }
 },
 "nbformat": 4,
 "nbformat_minor": 2
}
