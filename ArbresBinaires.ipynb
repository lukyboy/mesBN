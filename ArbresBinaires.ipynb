{
 "cells": [
  {
   "cell_type": "markdown",
   "metadata": {
    "collapsed": true
   },
   "source": [
    "# Arbres binaires\n",
    "\n",
    "\n",
    "## Ce qu'on veut faire\n",
    "\n",
    "On veut créer une structure de données pour les arbres binaires d'entiers.\n",
    "Un arbre binaire d'entiers est ici :\n",
    "- ou bien l'arbre vide ;\n",
    "- ou bien un nœud contenant un entier et ses deux fils, gauche et droit, qui sont des arbres binaires d'entiers.\n",
    "\n",
    "La définition est donc récursive.\n",
    "\n",
    "L'idée est de créer une classe (qu'on pourra ranger dans un module), permettant les opérations suivantes :\n",
    "\n",
    "- création d'un arbre vide ;\n",
    "- création d'un arbre à partir d'un entier et de deux arbres ;\n",
    "- test si un arbre est vide ou non ;\n",
    "- racine d'un arbre ;\n",
    "- fils gauche et fils droit d'un arbre"
   ]
  },
  {
   "cell_type": "code",
   "execution_count": 9,
   "metadata": {
    "ExecuteTime": {
     "end_time": "2020-04-24T15:30:06.593225Z",
     "start_time": "2020-04-24T15:30:06.585226Z"
    }
   },
   "outputs": [],
   "source": [
    "class Noeud:\n",
    "    def __init__(self,valeur,gauche,droit):\n",
    "        self.n = valeur\n",
    "        self.g = gauche\n",
    "        self.d = droit\n",
    "\n",
    "class ArbreBinaire:\n",
    "    def __init__(self,c):\n",
    "        self.r = c\n",
    "        \n",
    "    def creeVide():\n",
    "        return ArbreBinaire(None)\n",
    "    \n",
    "    def creeNGD(valeur,gauche=None,droit=None):\n",
    "        return ArbreBinaire(Noeud(valeur,gauche,droit))\n",
    "    \n",
    "    def estVide(self):\n",
    "        return self.r is None\n",
    "    \n",
    "    def racine(self):\n",
    "        assert not(self.r is None),'Arbre vide'\n",
    "        return self.r.n\n",
    "    \n",
    "    def filsGauche(self):\n",
    "        assert not(self.r is None),'Arbre vide'\n",
    "        return self.r.g\n",
    "    \n",
    "    def filsDroit(self):\n",
    "        assert not(self.r is None),'Arbre vide'\n",
    "        return self.r.d"
   ]
  },
  {
   "cell_type": "code",
   "execution_count": 10,
   "metadata": {
    "ExecuteTime": {
     "end_time": "2020-04-24T15:30:07.415117Z",
     "start_time": "2020-04-24T15:30:07.402327Z"
    }
   },
   "outputs": [],
   "source": [
    "a = ArbreBinaire.creeNGD(12) # arbre sans fils, souvent appelé feuille\n",
    "b = ArbreBinaire.creeNGD(14) \n",
    "c = ArbreBinaire.creeNGD(7)"
   ]
  },
  {
   "cell_type": "code",
   "execution_count": 11,
   "metadata": {
    "ExecuteTime": {
     "end_time": "2020-04-24T15:30:08.842196Z",
     "start_time": "2020-04-24T15:30:08.830844Z"
    }
   },
   "outputs": [
    {
     "data": {
      "text/plain": [
       "<__main__.ArbreBinaire at 0x7f51db326208>"
      ]
     },
     "execution_count": 11,
     "metadata": {},
     "output_type": "execute_result"
    }
   ],
   "source": [
    "a"
   ]
  },
  {
   "cell_type": "code",
   "execution_count": 12,
   "metadata": {
    "ExecuteTime": {
     "end_time": "2020-04-24T15:30:09.714603Z",
     "start_time": "2020-04-24T15:30:09.704172Z"
    }
   },
   "outputs": [],
   "source": [
    "d = ArbreBinaire.creeNGD(2,b,c)"
   ]
  },
  {
   "cell_type": "code",
   "execution_count": 13,
   "metadata": {
    "ExecuteTime": {
     "end_time": "2020-04-24T15:30:10.440549Z",
     "start_time": "2020-04-24T15:30:10.437118Z"
    }
   },
   "outputs": [],
   "source": [
    "e = ArbreBinaire.creeNGD(3,None,a) # attention à bien spécifier le fils gauche s'il est vide\n",
    "f = ArbreBinaire.creeNGD(1,e,d)"
   ]
  },
  {
   "cell_type": "code",
   "execution_count": 17,
   "metadata": {
    "ExecuteTime": {
     "end_time": "2020-04-24T15:31:01.194361Z",
     "start_time": "2020-04-24T15:31:01.167527Z"
    }
   },
   "outputs": [
    {
     "data": {
      "text/plain": [
       "(1, 14, 3)"
      ]
     },
     "execution_count": 17,
     "metadata": {},
     "output_type": "execute_result"
    }
   ],
   "source": [
    "f.racine(),f.filsDroit().filsGauche().racine(),f.filsGauche().racine()"
   ]
  },
  {
   "cell_type": "markdown",
   "metadata": {},
   "source": [
    "## Une autre implémentation, purement fonctionnelle"
   ]
  },
  {
   "cell_type": "code",
   "execution_count": 22,
   "metadata": {
    "ExecuteTime": {
     "end_time": "2020-04-24T15:35:15.554943Z",
     "start_time": "2020-04-24T15:35:15.549673Z"
    }
   },
   "outputs": [],
   "source": [
    "def arbreVide():\n",
    "    return None\n",
    "\n",
    "def arbreNGD(valeur,gauche=None,droit=None):\n",
    "    return (valeur,gauche,droit)"
   ]
  },
  {
   "cell_type": "code",
   "execution_count": 23,
   "metadata": {
    "ExecuteTime": {
     "end_time": "2020-04-24T15:35:17.01973Z",
     "start_time": "2020-04-24T15:35:17.004531Z"
    }
   },
   "outputs": [],
   "source": [
    "a = arbreNGD(12)\n",
    "b = arbreNGD(14)\n",
    "c = arbreNGD(7)\n",
    "d = arbreNGD(2,b,c)\n",
    "e = arbreNGD(3,None,a)\n",
    "f = arbreNGD(1,e,d)"
   ]
  },
  {
   "cell_type": "code",
   "execution_count": 24,
   "metadata": {
    "ExecuteTime": {
     "end_time": "2020-04-24T15:35:23.079456Z",
     "start_time": "2020-04-24T15:35:23.073234Z"
    }
   },
   "outputs": [
    {
     "data": {
      "text/plain": [
       "(1, (3, None, (12, None, None)), (2, (14, None, None), (7, None, None)))"
      ]
     },
     "execution_count": 24,
     "metadata": {},
     "output_type": "execute_result"
    }
   ],
   "source": [
    "f # évidemment, c'est plus simple à déchiffrer, c'est aussi plus rustique..."
   ]
  },
  {
   "cell_type": "code",
   "execution_count": null,
   "metadata": {},
   "outputs": [],
   "source": [
    "# mais ça fait le boulot !"
   ]
  }
 ],
 "metadata": {
  "kernelspec": {
   "display_name": "Python 3.6",
   "language": "python",
   "name": "python36"
  },
  "language_info": {
   "codemirror_mode": {
    "name": "ipython",
    "version": 3
   },
   "file_extension": ".py",
   "mimetype": "text/x-python",
   "name": "python",
   "nbconvert_exporter": "python",
   "pygments_lexer": "ipython3",
   "version": "3.6.6"
  },
  "varInspector": {
   "cols": {
    "lenName": 16,
    "lenType": 16,
    "lenVar": 40
   },
   "kernels_config": {
    "python": {
     "delete_cmd_postfix": "",
     "delete_cmd_prefix": "del ",
     "library": "var_list.py",
     "varRefreshCmd": "print(var_dic_list())"
    },
    "r": {
     "delete_cmd_postfix": ") ",
     "delete_cmd_prefix": "rm(",
     "library": "var_list.r",
     "varRefreshCmd": "cat(var_dic_list()) "
    }
   },
   "types_to_exclude": [
    "module",
    "function",
    "builtin_function_or_method",
    "instance",
    "_Feature"
   ],
   "window_display": false
  }
 },
 "nbformat": 4,
 "nbformat_minor": 2
}
